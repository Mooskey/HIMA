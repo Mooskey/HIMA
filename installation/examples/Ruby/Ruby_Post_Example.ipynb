{
 "cells": [
  {
   "cell_type": "code",
   "execution_count": 1,
   "metadata": {},
   "outputs": [
    {
     "data": {
      "text/plain": [
       "#<Net::HTTPOK 200 OK readbody=true>"
      ]
     },
     "execution_count": 1,
     "metadata": {},
     "output_type": "execute_result"
    }
   ],
   "source": [
    "require 'net/http/post/multipart'\n",
    "\n",
    "url = URI.parse('http://35.190.154.7:8000/async/upload/')\n",
    "File.open(\"./ICIAR/00.jpg\") do |jpg|\n",
    "  req = Net::HTTP::Post::Multipart.new url.path,\n",
    "    \"file\" => UploadIO.new(jpg, \"image/jpeg\", \"image.jpg\")\n",
    "  res = Net::HTTP.start(url.host, url.port) do |http|\n",
    "    http.request(req)\n",
    "  end\n",
    "end"
   ]
  },
  {
   "cell_type": "code",
   "execution_count": null,
   "metadata": {},
   "outputs": [],
   "source": []
  }
 ],
 "metadata": {
  "kernelspec": {
   "display_name": "Ruby 2.3.3",
   "language": "ruby",
   "name": "ruby"
  },
  "language_info": {
   "file_extension": ".rb",
   "mimetype": "application/x-ruby",
   "name": "ruby",
   "version": "2.3.3"
  }
 },
 "nbformat": 4,
 "nbformat_minor": 2
}
