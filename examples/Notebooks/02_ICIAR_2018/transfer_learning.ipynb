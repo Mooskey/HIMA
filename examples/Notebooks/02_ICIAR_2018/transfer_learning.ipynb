{
 "cells": [
  {
   "cell_type": "code",
   "execution_count": 1,
   "metadata": {},
   "outputs": [
    {
     "name": "stderr",
     "output_type": "stream",
     "text": [
      "Using TensorFlow backend.\n"
     ]
    }
   ],
   "source": [
    "import json\n",
    "from keras.models import model_from_json\n",
    "from keras.preprocessing import image\n",
    "from keras.applications.inception_v3 import preprocess_input\n",
    "from keras.models import model_from_json\n",
    "from keras.optimizers import SGD, RMSprop, Adagrad"
   ]
  },
  {
   "cell_type": "code",
   "execution_count": 2,
   "metadata": {},
   "outputs": [],
   "source": [
    "with open('/home/rahul/ICIAR/model_28.json') as json_file:\n",
    "              model_json = json_file.read()\n",
    "model = model_from_json(model_json)"
   ]
  },
  {
   "cell_type": "code",
   "execution_count": 3,
   "metadata": {},
   "outputs": [],
   "source": [
    "model.load_weights('/home/rahul/ICIAR/trained_weights_28.model')"
   ]
  },
  {
   "cell_type": "code",
   "execution_count": 4,
   "metadata": {},
   "outputs": [
    {
     "data": {
      "text/plain": [
       "<keras.layers.core.Dense at 0x7f662d3fc438>"
      ]
     },
     "execution_count": 4,
     "metadata": {},
     "output_type": "execute_result"
    }
   ],
   "source": [
    "model.layers.pop()"
   ]
  },
  {
   "cell_type": "code",
   "execution_count": 5,
   "metadata": {},
   "outputs": [],
   "source": [
    "new_model = model.output"
   ]
  },
  {
   "cell_type": "code",
   "execution_count": 6,
   "metadata": {},
   "outputs": [],
   "source": [
    "from keras.layers import Dense, GlobalAveragePooling2D, Dropout, BatchNormalization\n",
    "FC_SIZE = 4096\n",
    "dropout = 0.5"
   ]
  },
  {
   "cell_type": "code",
   "execution_count": 7,
   "metadata": {},
   "outputs": [],
   "source": [
    "x1 = Dense(FC_SIZE, activation='relu', name=\"fc_dense1\")(new_model)\n",
    "x1 = Dropout(dropout, name = 'dropout1')(x1)\n",
    "x1 = BatchNormalization(name=\"fc_batch_norm1\")(x1)\n",
    "x1 = Dense(FC_SIZE, activation='relu', name=\"fc_dense2\")(x1)\n",
    "x1 = Dropout(dropout, name = 'dropout2')(x1)"
   ]
  },
  {
   "cell_type": "code",
   "execution_count": 8,
   "metadata": {},
   "outputs": [],
   "source": [
    "x2 = Dense(FC_SIZE, activation='relu', name=\"fc_dense3\")(new_model)\n",
    "x2 = Dropout(dropout, name = 'dropout3')(x2)\n",
    "x2 = BatchNormalization(name=\"fc_batch_norm2\")(x2)\n",
    "x2 = Dense(FC_SIZE, activation='relu', name=\"fc_dense4\")(x2)\n",
    "x2 = Dropout(dropout, name = 'dropout4')(x2)"
   ]
  },
  {
   "cell_type": "code",
   "execution_count": 9,
   "metadata": {},
   "outputs": [],
   "source": [
    "from keras.layers.merge import concatenate"
   ]
  },
  {
   "cell_type": "code",
   "execution_count": 10,
   "metadata": {},
   "outputs": [],
   "source": [
    "x12 = concatenate([x1, x2], name = 'mixed11')\n",
    "x12 = Dropout(dropout, name = 'dropout5')(x12)\n",
    "x12 = Dense(FC_SIZE//16, activation='relu', name = 'fc_dense5')(x12)\n",
    "x12 = Dropout(dropout, name = 'dropout6')(x12)\n",
    "x12 = BatchNormalization(name=\"fc_batch_norm3\")(x12)\n",
    "x12 = Dense(FC_SIZE//32, activation='relu', name = 'fc_dense6')(x12)\n",
    "x12 = Dropout(dropout, name = 'dropout7')(x12)"
   ]
  },
  {
   "cell_type": "code",
   "execution_count": 11,
   "metadata": {},
   "outputs": [
    {
     "data": {
      "text/plain": [
       "<keras.layers.core.Dropout at 0x7f662d3fc400>"
      ]
     },
     "execution_count": 11,
     "metadata": {},
     "output_type": "execute_result"
    }
   ],
   "source": [
    "model.layers.pop()"
   ]
  },
  {
   "cell_type": "code",
   "execution_count": 12,
   "metadata": {},
   "outputs": [
    {
     "data": {
      "text/plain": [
       "<keras.layers.core.Dense at 0x7f662d3fc240>"
      ]
     },
     "execution_count": 12,
     "metadata": {},
     "output_type": "execute_result"
    }
   ],
   "source": [
    "model.layers.pop()"
   ]
  },
  {
   "cell_type": "code",
   "execution_count": 13,
   "metadata": {},
   "outputs": [
    {
     "data": {
      "text/plain": [
       "<keras.layers.core.Dropout at 0x7f662d3fc208>"
      ]
     },
     "execution_count": 13,
     "metadata": {},
     "output_type": "execute_result"
    }
   ],
   "source": [
    "model.layers.pop()"
   ]
  },
  {
   "cell_type": "code",
   "execution_count": 14,
   "metadata": {},
   "outputs": [
    {
     "data": {
      "text/plain": [
       "<keras.layers.core.Dense at 0x7f662d3fc048>"
      ]
     },
     "execution_count": 14,
     "metadata": {},
     "output_type": "execute_result"
    }
   ],
   "source": [
    "model.layers.pop()"
   ]
  },
  {
   "cell_type": "code",
   "execution_count": 15,
   "metadata": {},
   "outputs": [
    {
     "data": {
      "text/plain": [
       "<keras.layers.pooling.GlobalAveragePooling2D at 0x7f662d3f4f98>"
      ]
     },
     "execution_count": 15,
     "metadata": {},
     "output_type": "execute_result"
    }
   ],
   "source": [
    "model.layers.pop()"
   ]
  },
  {
   "cell_type": "code",
   "execution_count": 16,
   "metadata": {},
   "outputs": [],
   "source": [
    "model.layers[-1].outbound_nodes = []\n",
    "model.outputs = [model.layers[-1].output]\n",
    "x3 = model.get_layer('mixed10').output\n",
    "x3 = GlobalAveragePooling2D( name = 'global_avg_pooling2')(x3)\n",
    "x3 = Dense(2048, activation='relu', name = 'fc_dense7')(x3)\n",
    "x3 = Dropout(dropout, name = 'dropout8')(x3)\n",
    "x3 = BatchNormalization(name=\"fc_batch_norm4\")(x3)\n",
    "x3 = Dense(2048, activation='relu', name = 'fc_dense8')(x3)\n",
    "x3 = Dropout(dropout, name = 'dropout9')(x3)"
   ]
  },
  {
   "cell_type": "code",
   "execution_count": 17,
   "metadata": {},
   "outputs": [],
   "source": [
    "xout = concatenate([x12, x3], name ='mixed12')\n",
    "xout = Dense(FC_SIZE//32, activation='relu', name = 'fc_dense9')(xout)\n",
    "xout = Dropout(dropout, name = 'dropout10')(xout)"
   ]
  },
  {
   "cell_type": "code",
   "execution_count": 18,
   "metadata": {},
   "outputs": [],
   "source": [
    "nb_classes =4"
   ]
  },
  {
   "cell_type": "code",
   "execution_count": 19,
   "metadata": {},
   "outputs": [],
   "source": [
    "predictions = Dense(nb_classes, activation='softmax', name='predictions')(xout)"
   ]
  },
  {
   "cell_type": "code",
   "execution_count": 20,
   "metadata": {},
   "outputs": [],
   "source": [
    "from keras.models import Model"
   ]
  },
  {
   "cell_type": "code",
   "execution_count": 21,
   "metadata": {},
   "outputs": [],
   "source": [
    "model_out = Model(inputs=model.input, outputs=predictions)"
   ]
  },
  {
   "cell_type": "code",
   "execution_count": 22,
   "metadata": {},
   "outputs": [],
   "source": [
    "from keras.optimizers import SGD, RMSprop, Adagrad\n",
    "sgd = SGD(lr=1e-7, decay=0.5, momentum=1, nesterov=True)\n",
    "rms = RMSprop(lr=1e-7, rho=0.9, epsilon=1e-08, decay=0.0)\n",
    "ada = Adagrad(lr=1e-3, epsilon=1e-08, decay=0.0)\n",
    "optimizer = ada"
   ]
  },
  {
   "cell_type": "code",
   "execution_count": 23,
   "metadata": {},
   "outputs": [],
   "source": [
    "model_out.compile(optimizer=optimizer, loss='categorical_crossentropy', \n",
    "                metrics=['accuracy'])"
   ]
  },
  {
   "cell_type": "code",
   "execution_count": 24,
   "metadata": {},
   "outputs": [],
   "source": [
    "import os"
   ]
  },
  {
   "cell_type": "code",
   "execution_count": 29,
   "metadata": {},
   "outputs": [],
   "source": [
    "def save_model(dir_name, name, model):\n",
    "    file_loc = dir_name\n",
    "    file_pointer = os.path.join(file_loc+\"//trained\")\n",
    "    model.save_weights(os.path.join(file_pointer + \"_weights_\"+str(name)+\".model\"))\n",
    "    \n",
    "    model_json = model.to_json()                                                # Serialize model to JSON\n",
    "    with open(os.path.join(file_pointer+\"_config_\"+str(name)+\".json\"), \"w\") as json_file:\n",
    "        json_file.write(model_json)\n",
    "    print (\"Saved the trained model weights to: \" + \n",
    "           str(os.path.join(file_pointer + \"_weights_\"+str(name)+\".model\")))\n",
    "    print (\"Saved the trained model configuration as a json file to: \" + \n",
    "           str(os.path.join(file_pointer+\"_config_\"+str(name)+\".json\")))"
   ]
  },
  {
   "cell_type": "code",
   "execution_count": 30,
   "metadata": {},
   "outputs": [
    {
     "name": "stdout",
     "output_type": "stream",
     "text": [
      "Saved the trained model weights to: /home/rahul///trained_weights_model_32.model\n",
      "Saved the trained model configuration as a json file to: /home/rahul///trained_config_model_32.json\n"
     ]
    }
   ],
   "source": [
    "save_model('/home/rahul/', 'model_32', model_out)"
   ]
  },
  {
   "cell_type": "code",
   "execution_count": null,
   "metadata": {},
   "outputs": [],
   "source": []
  }
 ],
 "metadata": {
  "kernelspec": {
   "display_name": "Python 3",
   "language": "python",
   "name": "python3"
  },
  "language_info": {
   "codemirror_mode": {
    "name": "ipython",
    "version": 3
   },
   "file_extension": ".py",
   "mimetype": "text/x-python",
   "name": "python",
   "nbconvert_exporter": "python",
   "pygments_lexer": "ipython3",
   "version": "3.6.3"
  }
 },
 "nbformat": 4,
 "nbformat_minor": 2
}
