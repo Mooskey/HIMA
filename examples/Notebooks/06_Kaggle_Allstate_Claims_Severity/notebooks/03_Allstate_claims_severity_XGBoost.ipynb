{
 "cells": [
  {
   "cell_type": "markdown",
   "metadata": {},
   "source": [
    "## [Allstate Claims Severity](https://goo.gl/1DwHVy) -- Predictions using machine learning:\n",
    "\n",
    "### Author: Dr. Rahul Remanan, CEO and  Chief Imagination Officer [Moad Computer](https://www.moad.computer)\n",
    "\n",
    "The [Allstate Corporation](https://en.wikipedia.org/wiki/Allstate) is the one of the largest insurance providers in the United States and one of the largest that is publicly held. The company also has personal lines insurance operations in Canada. Allstate was founded in 1931 as part of Sears, Roebuck and Co., and was spun off in 1993.[1](https://goo.gl/ce2JJ2) The company has had its headquarters in Northfield Township, Illinois, near Northbrook since 1967.[2](https://goo.gl/oX4kfZ),[3](https://goo.gl/mcTd3y)\n",
    "\n",
    "As part of Allstate's ongoing efforts to develop automated methods of predicting the cost, and hence severity, of claims, they releasd a claims severity assessment dataset on Kaggle.[4](https://goo.gl/1DwHVy) In this challenge, datascientists were invited to show off their creativity and flex their technical chops by creating an algorithm which accurately predicts claims severity. The goal of this challenge was to help aspiring competitors demonstrate their insight into better ways of predicting claims severity.\n",
    "\n",
    "In this notebook, we will be using this dataset to build a prediction model using extreme gradient boosting technique."
   ]
  },
  {
   "cell_type": "markdown",
   "metadata": {},
   "source": [
    "## Part 03 -- Using [Extreme Gradient Boosting](https://en.wikipedia.org/wiki/Xgboost)\n",
    "\n",
    "This script is a modified fork from [Kaggle](https://www.kaggle.com/mmueller/allstate-claims-severity/yet-another-xgb-starter/code)."
   ]
  },
  {
   "cell_type": "code",
   "execution_count": 1,
   "metadata": {},
   "outputs": [],
   "source": [
    "library(data.table)\n",
    "library(Matrix)\n",
    "library(xgboost)\n",
    "library(Metrics)"
   ]
  },
  {
   "cell_type": "code",
   "execution_count": 2,
   "metadata": {},
   "outputs": [],
   "source": [
    "ID = 'id'\n",
    "TARGET = 'loss'\n",
    "SEED = 0"
   ]
  },
  {
   "cell_type": "code",
   "execution_count": 3,
   "metadata": {},
   "outputs": [],
   "source": [
    "TRAIN_FILE = \"./data/train.csv\"\n",
    "TEST_FILE = \"./data/test.csv\"\n",
    "SUBMISSION_FILE = \"./data/sample_submission.csv\""
   ]
  },
  {
   "cell_type": "code",
   "execution_count": 4,
   "metadata": {},
   "outputs": [],
   "source": [
    "train = fread(TRAIN_FILE, showProgress = TRUE)\n",
    "test = fread(TEST_FILE, showProgress = TRUE)"
   ]
  },
  {
   "cell_type": "code",
   "execution_count": 5,
   "metadata": {},
   "outputs": [],
   "source": [
    "y_train = log(train[,TARGET, with = FALSE])[[TARGET]]"
   ]
  },
  {
   "cell_type": "code",
   "execution_count": 6,
   "metadata": {},
   "outputs": [
    {
     "data": {},
     "metadata": {},
     "output_type": "display_data"
    },
    {
     "data": {},
     "metadata": {},
     "output_type": "display_data"
    }
   ],
   "source": [
    "train[, c(ID, TARGET) := NULL]\n",
    "test[, c(ID) := NULL]"
   ]
  },
  {
   "cell_type": "code",
   "execution_count": 7,
   "metadata": {},
   "outputs": [],
   "source": [
    "ntrain = nrow(train)\n",
    "train_test = rbindlist(list(train, test), use.names = T)"
   ]
  },
  {
   "cell_type": "code",
   "execution_count": 8,
   "metadata": {},
   "outputs": [
    {
     "data": {},
     "metadata": {},
     "output_type": "display_data"
    }
   ],
   "source": [
    "train_test[, c(\"cat12_cat80\", \"cat79_cat80\", \"cat57_cat80\", \"cat101_cat79\", \"cat57_cat79\", \"cat101_cat80\"):=list(\n",
    "  paste(cat12, cat80, sep=\"_\"),\n",
    "  paste(cat79, cat80, sep=\"_\"),\n",
    "  paste(cat57, cat80, sep=\"_\"),\n",
    "  paste(cat101, cat79, sep=\"_\"),\n",
    "  paste(cat57, cat79, sep=\"_\"),\n",
    "  paste(cat101, cat80, sep=\"_\")\n",
    ")]"
   ]
  },
  {
   "cell_type": "code",
   "execution_count": 9,
   "metadata": {},
   "outputs": [
    {
     "data": {},
     "metadata": {},
     "output_type": "display_data"
    }
   ],
   "source": [
    "train_test[, c(\"cat101_cat79_cat81\", \"cat57_cat79_cat80\", \"cat103_cat12_cat80\"):=list(\n",
    "  paste(cat101, cat79, cat81, sep=\"_\"),\n",
    "  paste(cat57, cat79, cat80, sep=\"_\"),\n",
    "  paste(cat103, cat12, cat80, sep=\"_\")\n",
    ")]"
   ]
  },
  {
   "cell_type": "code",
   "execution_count": 10,
   "metadata": {},
   "outputs": [],
   "source": [
    "features = names(train_test)"
   ]
  },
  {
   "cell_type": "code",
   "execution_count": 11,
   "metadata": {},
   "outputs": [],
   "source": [
    "for (f in features) {\n",
    "  if (class(train_test[[f]])==\"character\") {\n",
    "    #cat(\"VARIABLE : \",f,\"\\n\")\n",
    "    levels <- unique(train_test[[f]])\n",
    "    train_test[[f]] <- as.integer(factor(train_test[[f]], levels=levels))\n",
    "  }\n",
    "}"
   ]
  },
  {
   "cell_type": "code",
   "execution_count": 12,
   "metadata": {},
   "outputs": [],
   "source": [
    "x_train = train_test[1:ntrain,]\n",
    "x_test = train_test[(ntrain+1):nrow(train_test),]"
   ]
  },
  {
   "cell_type": "code",
   "execution_count": 13,
   "metadata": {},
   "outputs": [],
   "source": [
    "dtrain = xgb.DMatrix(data.matrix(x_train), label=y_train)\n",
    "dtest = xgb.DMatrix(data.matrix(x_test))"
   ]
  },
  {
   "cell_type": "code",
   "execution_count": 14,
   "metadata": {},
   "outputs": [],
   "source": [
    "xgb_params = list(\n",
    "  seed = 0,\n",
    "  colsample_bytree = 0.7,\n",
    "  subsample = 0.7,\n",
    "  eta = 0.08,\n",
    "  objective = 'reg:linear',\n",
    "  max_depth = 6,\n",
    "  num_parallel_tree = 1,\n",
    "  min_child_weight = 1,\n",
    "  base_score = 7\n",
    ")"
   ]
  },
  {
   "cell_type": "code",
   "execution_count": 15,
   "metadata": {},
   "outputs": [],
   "source": [
    "xg_eval_mae <- function (yhat, dtrain) {\n",
    "   y = getinfo(dtrain, \"label\")\n",
    "   err= mae(exp(y),exp(yhat) )\n",
    "   return (list(metric = \"error\", value = err))\n",
    "}"
   ]
  },
  {
   "cell_type": "code",
   "execution_count": 16,
   "metadata": {},
   "outputs": [
    {
     "name": "stdout",
     "output_type": "stream",
     "text": [
      "[1]\ttrain-error:2029.334385+2.270803\ttest-error:2029.427014+6.695207 \n",
      "Multiple eval metrics are present. Will use test_error for early stopping.\n",
      "Will train until test_error hasn't improved in 1000 rounds.\n",
      "\n",
      "[11]\ttrain-error:1615.833298+2.014766\ttest-error:1617.770397+6.331664 \n",
      "[21]\ttrain-error:1387.854266+1.518799\ttest-error:1393.418447+6.395620 \n",
      "[31]\ttrain-error:1281.474778+1.811797\ttest-error:1291.343192+5.811237 \n",
      "[41]\ttrain-error:1228.740235+2.005922\ttest-error:1242.271519+6.229243 \n",
      "[51]\ttrain-error:1198.602227+1.730095\ttest-error:1215.901242+5.946639 \n",
      "[61]\ttrain-error:1178.309403+1.491066\ttest-error:1199.204767+6.246607 \n",
      "[71]\ttrain-error:1164.479017+1.460059\ttest-error:1188.521046+5.842423 \n",
      "[81]\ttrain-error:1153.758453+1.406112\ttest-error:1180.586551+5.877487 \n",
      "[91]\ttrain-error:1145.564109+1.531224\ttest-error:1174.805743+5.984665 \n",
      "[101]\ttrain-error:1138.393589+1.457040\ttest-error:1170.236584+5.591081 \n",
      "[111]\ttrain-error:1132.696933+1.506825\ttest-error:1167.163990+5.382285 \n",
      "[121]\ttrain-error:1127.427558+1.503265\ttest-error:1164.574510+5.270046 \n",
      "[131]\ttrain-error:1122.657319+1.675664\ttest-error:1162.238719+5.117354 \n",
      "[141]\ttrain-error:1118.576297+1.541388\ttest-error:1160.309531+5.136845 \n",
      "[151]\ttrain-error:1114.843724+1.323376\ttest-error:1158.821224+5.194934 \n",
      "[161]\ttrain-error:1111.169763+1.459400\ttest-error:1157.357039+5.108197 \n",
      "[171]\ttrain-error:1107.703525+1.432751\ttest-error:1156.227327+4.998466 \n",
      "[181]\ttrain-error:1104.607423+1.436374\ttest-error:1155.485220+4.967893 \n",
      "[191]\ttrain-error:1101.721543+1.222760\ttest-error:1154.726184+4.926015 \n",
      "[201]\ttrain-error:1098.821147+1.283999\ttest-error:1154.257630+4.682900 \n",
      "[211]\ttrain-error:1096.205456+1.223830\ttest-error:1153.685862+4.473241 \n",
      "[221]\ttrain-error:1093.658400+1.295553\ttest-error:1153.281012+4.426377 \n",
      "[231]\ttrain-error:1090.972022+1.150372\ttest-error:1152.670938+4.499819 \n",
      "[241]\ttrain-error:1088.458956+0.972893\ttest-error:1152.203586+4.581274 \n",
      "[251]\ttrain-error:1086.235040+1.056527\ttest-error:1151.840211+4.663421 \n",
      "[261]\ttrain-error:1084.017682+1.307625\ttest-error:1151.417091+4.627468 \n",
      "[271]\ttrain-error:1081.655143+1.386458\ttest-error:1151.054521+4.514298 \n",
      "[281]\ttrain-error:1079.459849+1.379575\ttest-error:1150.783911+4.414062 \n",
      "[291]\ttrain-error:1077.255892+1.259803\ttest-error:1150.570289+4.587723 \n",
      "[301]\ttrain-error:1075.121448+1.268941\ttest-error:1150.302256+4.461803 \n",
      "[311]\ttrain-error:1073.026000+1.242479\ttest-error:1149.990448+4.508481 \n",
      "[321]\ttrain-error:1070.848081+1.385958\ttest-error:1149.913565+4.458258 \n",
      "[331]\ttrain-error:1068.669179+1.432566\ttest-error:1149.613902+4.357872 \n",
      "[341]\ttrain-error:1066.742973+1.461192\ttest-error:1149.390374+4.377825 \n",
      "[351]\ttrain-error:1064.609158+1.421031\ttest-error:1149.240175+4.243462 \n",
      "[361]\ttrain-error:1062.714079+1.305101\ttest-error:1149.187889+4.283215 \n",
      "[371]\ttrain-error:1060.733259+1.311042\ttest-error:1149.184911+4.413302 \n",
      "[381]\ttrain-error:1058.856312+1.352373\ttest-error:1149.223623+4.420195 \n",
      "[391]\ttrain-error:1057.127163+1.254141\ttest-error:1149.147092+4.443139 \n",
      "[401]\ttrain-error:1055.401846+1.267510\ttest-error:1149.184707+4.436805 \n",
      "[411]\ttrain-error:1053.512318+1.273298\ttest-error:1149.024542+4.428995 \n",
      "[421]\ttrain-error:1051.519902+1.337859\ttest-error:1149.277905+4.400085 \n",
      "[431]\ttrain-error:1049.569826+1.357503\ttest-error:1149.296848+4.388182 \n",
      "[441]\ttrain-error:1047.563141+1.290540\ttest-error:1149.200607+4.282120 \n",
      "[451]\ttrain-error:1045.595565+1.247802\ttest-error:1149.327058+4.227681 \n",
      "[461]\ttrain-error:1043.690128+1.204740\ttest-error:1149.285984+4.236549 \n",
      "[471]\ttrain-error:1042.029129+1.145340\ttest-error:1149.491563+4.143768 \n",
      "[481]\ttrain-error:1040.236294+1.283142\ttest-error:1149.498824+4.095030 \n",
      "[491]\ttrain-error:1038.444551+1.413799\ttest-error:1149.535959+4.036747 \n",
      "[501]\ttrain-error:1036.698953+1.638294\ttest-error:1149.542604+4.270857 \n",
      "[511]\ttrain-error:1034.878774+1.528342\ttest-error:1149.547191+4.154448 \n",
      "[521]\ttrain-error:1033.063311+1.491076\ttest-error:1149.571635+4.210175 \n",
      "[531]\ttrain-error:1031.263733+1.596815\ttest-error:1149.512187+4.005264 \n",
      "[541]\ttrain-error:1029.368175+1.577342\ttest-error:1149.517133+4.071154 \n",
      "[551]\ttrain-error:1027.617919+1.494639\ttest-error:1149.595888+4.129576 \n",
      "[561]\ttrain-error:1025.937805+1.460923\ttest-error:1149.634682+4.222668 \n",
      "[571]\ttrain-error:1024.129008+1.692116\ttest-error:1149.571470+4.173391 \n",
      "[581]\ttrain-error:1022.463155+1.800390\ttest-error:1149.555218+4.285696 \n",
      "[591]\ttrain-error:1020.743626+1.669864\ttest-error:1149.562656+4.356654 \n",
      "[601]\ttrain-error:1018.983467+1.710256\ttest-error:1149.492877+4.419613 \n",
      "[611]\ttrain-error:1017.329141+1.742330\ttest-error:1149.578339+4.408797 \n",
      "[621]\ttrain-error:1015.621161+1.775356\ttest-error:1149.591938+4.368352 \n",
      "[631]\ttrain-error:1013.980487+1.831178\ttest-error:1149.661894+4.301475 \n",
      "[641]\ttrain-error:1012.408319+1.827849\ttest-error:1149.660154+4.371719 \n",
      "[651]\ttrain-error:1010.707736+1.958502\ttest-error:1149.627034+4.427908 \n",
      "[661]\ttrain-error:1009.057529+2.023921\ttest-error:1149.687037+4.372900 \n",
      "[671]\ttrain-error:1007.455274+1.969116\ttest-error:1149.765792+4.237862 \n",
      "[681]\ttrain-error:1005.873462+1.895554\ttest-error:1149.871504+4.266913 \n",
      "[691]\ttrain-error:1004.255445+1.762522\ttest-error:1149.911076+4.298987 \n",
      "[701]\ttrain-error:1002.609685+1.927923\ttest-error:1149.919514+4.352051 \n",
      "[711]\ttrain-error:1001.169701+1.868427\ttest-error:1150.131151+4.273426 \n",
      "[721]\ttrain-error:999.684098+1.882450\ttest-error:1150.221320+4.249337 \n",
      "[731]\ttrain-error:998.023076+1.930988\ttest-error:1150.277238+4.245923 \n",
      "[741]\ttrain-error:996.345856+1.842527\ttest-error:1150.247050+4.354036 \n",
      "[751]\ttrain-error:994.812259+1.819619\ttest-error:1150.246036+4.443652 \n",
      "[761]\ttrain-error:993.327570+1.973658\ttest-error:1150.297311+4.392509 \n",
      "[771]\ttrain-error:991.803596+2.029597\ttest-error:1150.422115+4.519642 \n",
      "[781]\ttrain-error:990.218174+2.132074\ttest-error:1150.685244+4.463136 \n",
      "[791]\ttrain-error:988.692044+2.099433\ttest-error:1150.763867+4.443585 \n",
      "[801]\ttrain-error:987.153406+2.061470\ttest-error:1150.771707+4.421062 \n",
      "[811]\ttrain-error:985.623504+2.018065\ttest-error:1150.891368+4.283269 \n",
      "[821]\ttrain-error:984.090206+1.929576\ttest-error:1150.878269+4.399436 \n",
      "[831]\ttrain-error:982.677878+1.970120\ttest-error:1150.859186+4.403950 \n",
      "[841]\ttrain-error:981.193039+1.982043\ttest-error:1150.976436+4.509272 \n",
      "[851]\ttrain-error:979.811871+1.964374\ttest-error:1150.973704+4.497419 \n",
      "[861]\ttrain-error:978.377843+1.942901\ttest-error:1151.129381+4.514370 \n",
      "[871]\ttrain-error:977.006853+1.856193\ttest-error:1151.220697+4.427079 \n",
      "[881]\ttrain-error:975.575987+1.782394\ttest-error:1151.348480+4.432354 \n",
      "[891]\ttrain-error:974.164010+1.715777\ttest-error:1151.397381+4.389313 \n",
      "[901]\ttrain-error:972.636139+1.666508\ttest-error:1151.556375+4.327037 \n",
      "[911]\ttrain-error:971.268186+1.568563\ttest-error:1151.680190+4.350490 \n",
      "[921]\ttrain-error:969.857081+1.638034\ttest-error:1151.770730+4.313423 \n",
      "[931]\ttrain-error:968.349228+1.706311\ttest-error:1151.862558+4.354583 \n",
      "[941]\ttrain-error:966.934832+1.536607\ttest-error:1152.020439+4.327325 \n",
      "[951]\ttrain-error:965.422179+1.505931\ttest-error:1152.083829+4.245395 \n",
      "[961]\ttrain-error:964.083540+1.611851\ttest-error:1152.091788+4.335933 \n",
      "[971]\ttrain-error:962.726141+1.626943\ttest-error:1152.237588+4.294757 \n",
      "[981]\ttrain-error:961.284601+1.625077\ttest-error:1152.444960+4.239222 \n",
      "[991]\ttrain-error:959.876812+1.729721\ttest-error:1152.512167+4.188862 \n",
      "[1001]\ttrain-error:958.474436+1.695225\ttest-error:1152.742798+4.165921 \n",
      "[1011]\ttrain-error:957.062841+1.756900\ttest-error:1152.815387+4.206999 \n",
      "[1021]\ttrain-error:955.694330+1.725331\ttest-error:1152.951048+4.118580 \n",
      "[1031]\ttrain-error:954.370088+1.679276\ttest-error:1153.051773+4.138360 \n",
      "[1041]\ttrain-error:952.923210+1.741755\ttest-error:1153.127396+4.088261 \n",
      "[1051]\ttrain-error:951.550651+1.792505\ttest-error:1153.197391+4.136497 \n",
      "[1061]\ttrain-error:950.180697+1.839405\ttest-error:1153.281698+4.140055 \n",
      "[1071]\ttrain-error:948.847473+1.764977\ttest-error:1153.271916+4.124917 \n",
      "[1081]\ttrain-error:947.458057+1.841607\ttest-error:1153.343705+4.076559 \n",
      "[1091]\ttrain-error:946.075205+1.799367\ttest-error:1153.459495+4.063302 \n",
      "[1101]\ttrain-error:944.841525+1.816699\ttest-error:1153.656142+4.026115 \n",
      "[1111]\ttrain-error:943.508163+1.755065\ttest-error:1153.672033+4.048387 \n",
      "[1121]\ttrain-error:942.159926+1.840463\ttest-error:1153.762124+4.046874 \n",
      "[1131]\ttrain-error:940.887905+1.837161\ttest-error:1153.914508+4.027835 \n",
      "[1141]\ttrain-error:939.551273+1.811765\ttest-error:1153.906265+4.124073 \n",
      "[1151]\ttrain-error:938.274883+1.819197\ttest-error:1154.077899+4.151386 \n",
      "[1161]\ttrain-error:936.855738+1.766504\ttest-error:1154.283503+4.153036 \n",
      "[1171]\ttrain-error:935.538200+1.704573\ttest-error:1154.446842+4.188847 \n",
      "[1181]\ttrain-error:934.158913+1.686334\ttest-error:1154.542924+4.212578 \n",
      "[1191]\ttrain-error:932.860061+1.700138\ttest-error:1154.596430+4.236881 \n",
      "[1201]\ttrain-error:931.519888+1.722560\ttest-error:1154.719330+4.111259 \n",
      "[1211]\ttrain-error:930.213241+1.731402\ttest-error:1154.818182+4.047064 \n",
      "[1221]\ttrain-error:928.954485+1.678352\ttest-error:1155.018969+4.152138 \n",
      "[1231]\ttrain-error:927.731377+1.705608\ttest-error:1155.165195+4.158123 \n",
      "[1241]\ttrain-error:926.344558+1.653167\ttest-error:1155.355177+4.146277 \n",
      "[1251]\ttrain-error:925.072345+1.728318\ttest-error:1155.309856+4.062814 \n",
      "[1261]\ttrain-error:923.747211+1.662655\ttest-error:1155.419270+4.049069 \n",
      "[1271]\ttrain-error:922.483364+1.741555\ttest-error:1155.481975+4.129031 \n",
      "[1281]\ttrain-error:921.205190+1.622261\ttest-error:1155.680771+4.139951 \n",
      "[1291]\ttrain-error:919.966582+1.628797\ttest-error:1155.790509+4.044117 \n",
      "[1301]\ttrain-error:918.604064+1.692678\ttest-error:1155.911874+3.938255 \n",
      "[1311]\ttrain-error:917.471719+1.677859\ttest-error:1156.050210+3.956278 \n",
      "[1321]\ttrain-error:916.186299+1.654739\ttest-error:1156.226350+3.984805 \n",
      "[1331]\ttrain-error:914.918354+1.638053\ttest-error:1156.437634+3.973621 \n",
      "[1341]\ttrain-error:913.686978+1.633403\ttest-error:1156.500996+3.978796 \n",
      "[1351]\ttrain-error:912.475162+1.592219\ttest-error:1156.634240+3.946993 \n",
      "[1361]\ttrain-error:911.157022+1.609215\ttest-error:1156.669472+3.908063 \n",
      "[1371]\ttrain-error:909.820549+1.649363\ttest-error:1156.765801+3.917721 \n",
      "[1381]\ttrain-error:908.482465+1.477813\ttest-error:1156.820581+3.912239 \n",
      "[1391]\ttrain-error:907.302075+1.546374\ttest-error:1156.934103+3.931857 \n",
      "[1401]\ttrain-error:906.035852+1.554249\ttest-error:1157.036157+3.925307 \n",
      "[1411]\ttrain-error:904.674206+1.479385\ttest-error:1157.176444+3.930341 \n",
      "Stopping. Best iteration:\n",
      "[411]\ttrain-error:1053.512318+1.273298\ttest-error:1149.024542+4.428995\n",
      "\n"
     ]
    }
   ],
   "source": [
    "res = xgb.cv(xgb_params,\n",
    "             dtrain,\n",
    "             nrounds=2500,\n",
    "             nfold=4,\n",
    "             early_stopping_rounds=1000,\n",
    "             print_every_n = 10,\n",
    "             verbose= 1,\n",
    "             feval=xg_eval_mae,\n",
    "             maximize=FALSE)"
   ]
  },
  {
   "cell_type": "code",
   "execution_count": 17,
   "metadata": {},
   "outputs": [
    {
     "name": "stdout",
     "output_type": "stream",
     "text": [
      "CV-Mean: 1149.02454210411 4.42899476228009"
     ]
    }
   ],
   "source": [
    "best_nrounds = res$best_iteration\n",
    "cv_mean = res$evaluation_log$test_error_mean[best_nrounds]\n",
    "cv_std = res$evaluation_log$test_error_std[best_nrounds]\n",
    "cat(paste0('CV-Mean: ',cv_mean,' ', cv_std))"
   ]
  },
  {
   "cell_type": "code",
   "execution_count": 18,
   "metadata": {},
   "outputs": [],
   "source": [
    "gbdt = xgb.train(xgb_params, dtrain, nrounds=best_nrounds, feval = xg_eval_mae, verbose = 1, maximize = F)"
   ]
  },
  {
   "cell_type": "code",
   "execution_count": 19,
   "metadata": {},
   "outputs": [],
   "source": [
    "submission = fread(SUBMISSION_FILE, colClasses = c(\"integer\", \"numeric\"))\n",
    "submission$loss = exp(predict(gbdt,dtest))\n",
    "filename <- paste(\"xgbCV\", as.character(round(cv_mean,4)), format(Sys.time(), \"%Y%m%d%H%M%S\"), sep = \"_\")\n",
    "write.csv(submission, paste0(filename,'.csv',collapse = \"\"), row.names=FALSE, quote = FALSE)"
   ]
  },
  {
   "cell_type": "code",
   "execution_count": null,
   "metadata": {},
   "outputs": [],
   "source": []
  }
 ],
 "metadata": {
  "kernelspec": {
   "display_name": "R",
   "language": "R",
   "name": "ir"
  },
  "language_info": {
   "codemirror_mode": "r",
   "file_extension": ".r",
   "mimetype": "text/x-r-source",
   "name": "R",
   "pygments_lexer": "r",
   "version": "3.4.2"
  }
 },
 "nbformat": 4,
 "nbformat_minor": 2
}
