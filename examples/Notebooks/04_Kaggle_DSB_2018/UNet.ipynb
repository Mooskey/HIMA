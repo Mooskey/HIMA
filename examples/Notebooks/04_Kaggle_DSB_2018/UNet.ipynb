{
 "cells": [
  {
   "cell_type": "markdown",
   "metadata": {
    "_cell_guid": "e61ef2d8-f315-4f7f-b07e-1de0f4e8441a",
    "_uuid": "1677fddbb95f7545b6540e9201f3339a0fdbfc5d"
   },
   "source": [
    "# Introduction:\n",
    "\n",
    "This a python 3 notebook on how to start segmenting nuclei using a neural network.\n",
    "\n",
    "* Uses Keras and Tensorflow\n",
    "* Modified fork of the [Keras U-Net starter notebook](https://www.kaggle.com/keegil/keras-u-net-starter-lb-0-277)\n",
    "* Using: [U-Net](https://arxiv.org/abs/1505.04597) architecture\n",
    "* U-Net architecture is commonly used for image segmentation problems"
   ]
  },
  {
   "cell_type": "markdown",
   "metadata": {},
   "source": [
    "### Importing dependent libraries:"
   ]
  },
  {
   "cell_type": "code",
   "execution_count": 1,
   "metadata": {
    "_cell_guid": "c332549b-8d23-4bb5-8497-e7a8eb8b21d2",
    "_uuid": "5c38504af3a84bee68c66d3cde74443c58df422f"
   },
   "outputs": [
    {
     "name": "stderr",
     "output_type": "stream",
     "text": [
      "Using TensorFlow backend.\n"
     ]
    }
   ],
   "source": [
    "import os\n",
    "import sys\n",
    "import random\n",
    "import warnings\n",
    "import types\n",
    "import time\n",
    "\n",
    "import numpy as np\n",
    "import pandas as pd\n",
    "\n",
    "import matplotlib.pyplot as plt\n",
    "\n",
    "from tqdm import tqdm\n",
    "from itertools import chain\n",
    "from skimage.io import imread, imshow, imread_collection, concatenate_images\n",
    "from skimage.transform import resize\n",
    "from skimage.morphology import label\n",
    "\n",
    "from keras.models import Model, load_model\n",
    "from keras.layers import Input\n",
    "from keras.layers.core import Dropout, Lambda\n",
    "from keras.layers.convolutional import Conv2D, Conv2DTranspose\n",
    "from keras.layers.pooling import MaxPooling2D\n",
    "from keras.layers.merge import concatenate\n",
    "from keras.callbacks import EarlyStopping, ModelCheckpoint\n",
    "from keras.optimizers import SGD, RMSprop, Adagrad, Adam\n",
    "from keras import backend as K\n",
    "from keras.metrics import binary_crossentropy\n",
    "from keras.models import model_from_json\n",
    "\n",
    "import tensorflow as tf"
   ]
  },
  {
   "cell_type": "markdown",
   "metadata": {},
   "source": [
    "### Initialize some global parameters:"
   ]
  },
  {
   "cell_type": "code",
   "execution_count": 2,
   "metadata": {},
   "outputs": [],
   "source": [
    "IMG_WIDTH = 256\n",
    "IMG_HEIGHT = 256\n",
    "IMG_CHANNELS = 3\n",
    "\n",
    "warnings.filterwarnings('ignore', category=UserWarning, module='skimage')\n",
    "seed = 1024\n",
    "random.seed = seed\n",
    "np.random.seed = seed"
   ]
  },
  {
   "cell_type": "code",
   "execution_count": 3,
   "metadata": {},
   "outputs": [],
   "source": [
    "args = types.SimpleNamespace()\n",
    "args.data_path = ['./data/']\n",
    "args.config_file = [' ./model/trained_2018_02_15-18_06_57_config_UNet.json']\n",
    "args.weights_file = ['./model/trained_2018_02_15-18_06_57_weights_UNet.model']\n",
    "args.output_dir = ['./model/']"
   ]
  },
  {
   "cell_type": "code",
   "execution_count": 4,
   "metadata": {},
   "outputs": [],
   "source": [
    "TRAIN_PATH = os.path.join(args.data_path[0]+'/train/')\n",
    "TEST_PATH = os.path.join(args.data_path[0]+'/test/')"
   ]
  },
  {
   "cell_type": "code",
   "execution_count": 5,
   "metadata": {},
   "outputs": [
    {
     "name": "stdout",
     "output_type": "stream",
     "text": [
      "./data//train_aug/\n"
     ]
    }
   ],
   "source": [
    "TRAIN_PATH = os.path.join(args.data_path[0]+'/train_aug/')\n",
    "print (TRAIN_PATH)"
   ]
  },
  {
   "cell_type": "markdown",
   "metadata": {},
   "source": [
    "### Fetch train and test IDs:"
   ]
  },
  {
   "cell_type": "code",
   "execution_count": 6,
   "metadata": {
    "_cell_guid": "ffa0caf0-2d1b-40f2-865b-8e6db88526b6",
    "_uuid": "3fb9d6530fbbd0e22e41fc4fd9fd9fc0bff027ac"
   },
   "outputs": [],
   "source": [
    "train_ids = next(os.walk(TRAIN_PATH))[1]\n",
    "test_ids = next(os.walk(TEST_PATH))[1]"
   ]
  },
  {
   "cell_type": "markdown",
   "metadata": {
    "_cell_guid": "59c4a25d-645f-4b74-9c53-145ac78cc481",
    "_uuid": "875af74f980236825de3a650825b46e25632422c"
   },
   "source": [
    "# Loading data:\n",
    "\n",
    "* Import all the images and associated masks. \n",
    "* Downsample both the training and test images to keep things light and manageable.\n",
    "* Store the record of the original sizes of the test images to upsample our predicted masks\n",
    "* Create correct run-length encodings later on using the upsampled data. "
   ]
  },
  {
   "cell_type": "markdown",
   "metadata": {},
   "source": [
    "### Fetch and resize training images and masks:"
   ]
  },
  {
   "cell_type": "code",
   "execution_count": null,
   "metadata": {
    "_cell_guid": "ca0cc34b-c26f-41ee-88d7-975aebdb634e",
    "_uuid": "9e389ba8bdb5b6fc03b231b6a6c84a8bde634053"
   },
   "outputs": [],
   "source": [
    "X_train = np.zeros((len(train_ids), IMG_HEIGHT, IMG_WIDTH, IMG_CHANNELS), dtype=np.uint8)\n",
    "Y_train = np.zeros((len(train_ids), IMG_HEIGHT, IMG_WIDTH, 1), dtype=np.bool)\n",
    "print('Getting and resizing train images and masks ... ')\n",
    "sys.stdout.flush()\n",
    "for n, id_ in tqdm(enumerate(train_ids), total=len(train_ids)):\n",
    "    path = TRAIN_PATH + id_\n",
    "    img = imread(path + '/images/' + id_ + '.png')[:,:,:IMG_CHANNELS]\n",
    "    img = resize(img, (IMG_HEIGHT, IMG_WIDTH), mode='constant', preserve_range=True)\n",
    "    X_train[n] = img\n",
    "    mask = np.zeros((IMG_HEIGHT, IMG_WIDTH, 1), dtype=np.bool)\n",
    "    for mask_file in next(os.walk(path + '/masks/'))[2]:\n",
    "        mask_ = imread(path + '/masks/' + mask_file)\n",
    "        mask_ = np.expand_dims(resize(mask_, (IMG_HEIGHT, IMG_WIDTH), mode='constant', \n",
    "                                      preserve_range=True), axis=-1)\n",
    "        mask = np.maximum(mask, mask_)\n",
    "    Y_train[n] = mask"
   ]
  },
  {
   "cell_type": "markdown",
   "metadata": {},
   "source": [
    "### Load augmented images:"
   ]
  },
  {
   "cell_type": "code",
   "execution_count": null,
   "metadata": {},
   "outputs": [],
   "source": [
    "X_train = np.zeros((len(train_ids), IMG_HEIGHT, IMG_WIDTH, IMG_CHANNELS), dtype=np.uint8)\n",
    "Y_train = np.zeros((len(train_ids), IMG_HEIGHT, IMG_WIDTH, 1), dtype=np.bool)\n",
    "print('Getting and resizing train images and masks ... ')\n",
    "sys.stdout.flush()\n",
    "for n, id_ in tqdm(enumerate(train_ids), total=len(train_ids)):\n",
    "    path = TRAIN_PATH + id_\n",
    "    for file in os.listdir(path + '/images/'):\n",
    "        if file.endswith(\".png\"):\n",
    "            img_id = (os.path.join(path + '/images/' + str(file)))\n",
    "        else:\n",
    "            print (\"No image file found ...\")\n",
    "    try:\n",
    "        img = imread(img_id)[:,:,:IMG_CHANNELS]\n",
    "        img = resize(img, (IMG_HEIGHT, IMG_WIDTH), mode='constant', preserve_range=True)\n",
    "        X_train[n] = img\n",
    "    except:\n",
    "        print (\"Incompatible image dimensions detected. Resizing image: \" + img_id +\" ...\")\n",
    "        try:\n",
    "            img = imread(img_id)[:,:]\n",
    "            stacked_img = np.stack((img,)*3, -1)\n",
    "            stacked_img = resize(stacked_img, (IMG_HEIGHT, IMG_WIDTH), \\\n",
    "                                               mode='constant', \\\n",
    "                                               preserve_range=True)\n",
    "        except:\n",
    "            print ('Failed to read from image: ' + img_id)\n",
    "            pass\n",
    "        X_train[n] = stacked_img\n",
    "    mask = np.zeros((IMG_HEIGHT, IMG_WIDTH, 1), dtype=np.bool)\n",
    "    for mask_file in next(os.walk(path + '/masks/'))[2]:\n",
    "        mask_ = imread(path + '/masks/' + mask_file)\n",
    "        mask_ = np.expand_dims(resize(mask_, (IMG_HEIGHT, IMG_WIDTH), mode='constant', \n",
    "                                      preserve_range=True), axis=-1)\n",
    "        mask = np.maximum(mask, mask_)\n",
    "    Y_train[n] = mask"
   ]
  },
  {
   "cell_type": "markdown",
   "metadata": {},
   "source": [
    "### Fetch and resize test images:"
   ]
  },
  {
   "cell_type": "code",
   "execution_count": 8,
   "metadata": {},
   "outputs": [
    {
     "name": "stdout",
     "output_type": "stream",
     "text": [
      "Getting and resizing test images ... \n"
     ]
    },
    {
     "name": "stderr",
     "output_type": "stream",
     "text": [
      "100%|██████████| 65/65 [00:01<00:00, 32.97it/s]\n"
     ]
    }
   ],
   "source": [
    "X_test = np.zeros((len(test_ids), IMG_HEIGHT, IMG_WIDTH, IMG_CHANNELS), dtype=np.uint8)\n",
    "sizes_test = []\n",
    "print('Getting and resizing test images ... ')\n",
    "sys.stdout.flush()\n",
    "for n, id_ in tqdm(enumerate(test_ids), total=len(test_ids)):\n",
    "    path = TEST_PATH + id_\n",
    "    img = imread(path + '/images/' + id_ + '.png')[:,:,:IMG_CHANNELS]\n",
    "    sizes_test.append([img.shape[0], img.shape[1]])\n",
    "    img = resize(img, (IMG_HEIGHT, IMG_WIDTH), mode='constant', preserve_range=True)\n",
    "    X_test[n] = img"
   ]
  },
  {
   "cell_type": "markdown",
   "metadata": {},
   "source": [
    "### Save training and test data to disk:"
   ]
  },
  {
   "cell_type": "code",
   "execution_count": null,
   "metadata": {},
   "outputs": [],
   "source": [
    "np.savez_compressed(os.path.join(args.data_path[0]+'/train_aug_256.npz'), xtrain=X_train, ytrain=Y_train)\n",
    "np.savez_compressed(os.path.join(args.data_path[0]+'/test_256.npz'), xtest=X_test)"
   ]
  },
  {
   "cell_type": "markdown",
   "metadata": {},
   "source": [
    "### Load saved data from disk:"
   ]
  },
  {
   "cell_type": "code",
   "execution_count": 7,
   "metadata": {},
   "outputs": [],
   "source": [
    "train_data = np.load(os.path.join(args.data_path[0]+'/train_aug_256.npz'))\n",
    "X_train = train_data['xtrain']\n",
    "Y_train = train_data['ytrain']"
   ]
  },
  {
   "cell_type": "code",
   "execution_count": 9,
   "metadata": {},
   "outputs": [],
   "source": [
    "test_data = np.load(os.path.join(args.data_path[0]+'/test_256.npz'))\n",
    "X_test = test_data['xtest']"
   ]
  },
  {
   "cell_type": "markdown",
   "metadata": {},
   "source": [
    "### Running checks on training data"
   ]
  },
  {
   "cell_type": "code",
   "execution_count": 10,
   "metadata": {
    "_cell_guid": "88829b53-50ce-45d9-9540-77dd7384ad4c",
    "_uuid": "283af26f0860b7069bdfd133c746e5d20971542c"
   },
   "outputs": [
    {
     "data": {
      "image/png": "[encoded data removed]",
      "text/plain": [
       "<matplotlib.figure.Figure at 0x7f536bb1cf28>"
      ]
     },
     "metadata": {},
     "output_type": "display_data"
    },
    {
     "data": {
      "image/png": "[encoded data removed]",
      "text/plain": [
       "<matplotlib.figure.Figure at 0x7f536b9bea58>"
      ]
     },
     "metadata": {},
     "output_type": "display_data"
    }
   ],
   "source": [
    "ix = random.randint(0, len(train_ids))\n",
    "imshow(X_train[ix])\n",
    "plt.show()\n",
    "imshow(np.squeeze(Y_train[ix]))\n",
    "plt.show()"
   ]
  },
  {
   "cell_type": "markdown",
   "metadata": {
    "_cell_guid": "2574ffe9-b911-4bfd-a00f-9ba5c25f45de",
    "_uuid": "938648da705689a0f940ff462477c801db3f0737"
   },
   "source": [
    "# Create evaluation metrics:\n",
    "\n",
    "Now we try to define the *mean average precision at different intersection over union (IoU) thresholds* metric in Keras. TensorFlow has a mean IoU metric, but it doesn't have any native support for the mean over multiple thresholds, so I tried to implement this. **I'm by no means certain that this implementation is correct, though!** Any assistance in verifying this would be most welcome! \n",
    "\n",
    "*Update: This implementation is most definitely not correct due to the very large discrepancy between the results reported here and the LB results. It also seems to just increase over time no matter what when you train ... *"
   ]
  },
  {
   "cell_type": "markdown",
   "metadata": {},
   "source": [
    "### Kaggle specific IoU metric:"
   ]
  },
  {
   "cell_type": "code",
   "execution_count": 11,
   "metadata": {
    "_cell_guid": "c1df6f3a-d58f-434b-9216-ef7be38637d4",
    "_uuid": "5abd38950ae99b60f8afec7656eb654a48d449fe"
   },
   "outputs": [],
   "source": [
    "def mean_iou(y_true, y_pred):\n",
    "    prec = []\n",
    "    for t in np.arange(0.5, 1.0, 0.05):\n",
    "        y_pred_ = tf.to_int32(y_pred > t)\n",
    "        score, up_opt = tf.metrics.mean_iou(y_true, y_pred_, 2)\n",
    "        K.get_session().run(tf.local_variables_initializer())\n",
    "        with tf.control_dependencies([up_opt]):\n",
    "            score = tf.identity(score)\n",
    "        prec.append(score)\n",
    "    return K.mean(K.stack(prec), axis=0)"
   ]
  },
  {
   "cell_type": "markdown",
   "metadata": {},
   "source": [
    "### IoU metric using tensorflow:"
   ]
  },
  {
   "cell_type": "code",
   "execution_count": 12,
   "metadata": {},
   "outputs": [],
   "source": [
    "NUM_CLASSES = 2\n",
    "def mean_iou_tf(y_true, y_pred):\n",
    "   score, up_opt = tf.metrics.mean_iou(y_true, y_pred, NUM_CLASSES)\n",
    "   K.get_session().run(tf.local_variables_initializer())\n",
    "   with tf.control_dependencies([up_opt]):\n",
    "       score = tf.identity(score)\n",
    "   return score"
   ]
  },
  {
   "cell_type": "markdown",
   "metadata": {},
   "source": [
    "### DICE Coefficient:"
   ]
  },
  {
   "cell_type": "code",
   "execution_count": 13,
   "metadata": {},
   "outputs": [],
   "source": [
    "smooth = 1.\n",
    "\n",
    "def dice_coef(y_true, y_pred):\n",
    "    y_true_f = K.flatten(y_true)\n",
    "    y_pred_f = K.flatten(y_pred)\n",
    "    intersection = K.sum(y_true_f * y_pred_f)\n",
    "    return (2. * intersection + smooth) / (K.sum(y_true_f) + K.sum(y_pred_f) + smooth)\n",
    "def bce_dice(y_true, y_pred):\n",
    "    return binary_crossentropy(y_true, y_pred)-K.log(dice_coef(y_true, y_pred))\n",
    "\n",
    "use_dice = True"
   ]
  },
  {
   "cell_type": "code",
   "execution_count": 14,
   "metadata": {},
   "outputs": [],
   "source": [
    "def dice_coef_loss(y_true, y_pred):\n",
    "    return -dice_coef(y_true, y_pred)"
   ]
  },
  {
   "cell_type": "markdown",
   "metadata": {
    "_cell_guid": "c3b9f148-1dba-4b6a-981b-6cdbf394fc3c",
    "_uuid": "986488a4c5223576be370e224426a30431911eb2"
   },
   "source": [
    "# Create a neural network model for image segmentation:\n",
    "\n",
    "### U-Net architecture overview:\n",
    "\n",
    "Next we build our U-Net model, loosely based on [U-Net: Convolutional Networks for Biomedical Image Segmentation](https://arxiv.org/pdf/1505.04597.pdf) and very similar to [this repo](https://github.com/jocicmarko/ultrasound-nerve-segmentation) from the Kaggle Ultrasound Nerve Segmentation competition.\n",
    "\n",
    "![](https://lmb.informatik.uni-freiburg.de/people/ronneber/u-net/u-net-architecture.png)"
   ]
  },
  {
   "cell_type": "markdown",
   "metadata": {},
   "source": [
    "### Build U-Net model:"
   ]
  },
  {
   "cell_type": "code",
   "execution_count": 15,
   "metadata": {},
   "outputs": [],
   "source": [
    "inputs = Input((IMG_HEIGHT, IMG_WIDTH, IMG_CHANNELS))\n",
    "DEFAULT_ACTIVATION = 'elu' # 'relu', 'elu'\n",
    "unit_size = 16\n",
    "dropout = 0.4"
   ]
  },
  {
   "cell_type": "code",
   "execution_count": 16,
   "metadata": {
    "_cell_guid": "c1dbc57c-b497-4ccb-b077-2053203ab7ed",
    "_uuid": "0aa97d66c29f45dfac9b0f45fcf74ba0e778ba5d"
   },
   "outputs": [],
   "source": [
    "s = Lambda(lambda x: x / 255) (inputs)\n",
    "\n",
    "c1 = Conv2D(unit_size, (3, 3), activation=DEFAULT_ACTIVATION, kernel_initializer='he_normal', padding='same') (s)\n",
    "c1 = Dropout(dropout) (c1)\n",
    "c1 = Conv2D(unit_size, (3, 3), activation=DEFAULT_ACTIVATION, kernel_initializer='he_normal', padding='same') (c1)\n",
    "p1 = MaxPooling2D((2, 2)) (c1)\n",
    "\n",
    "c2 = Conv2D(unit_size*2, (3, 3), activation=DEFAULT_ACTIVATION, kernel_initializer='he_normal', padding='same') (p1)\n",
    "c2 = Dropout(dropout) (c2)\n",
    "c2 = Conv2D(unit_size*2, (3, 3), activation=DEFAULT_ACTIVATION, kernel_initializer='he_normal', padding='same') (c2)\n",
    "p2 = MaxPooling2D((2, 2)) (c2)\n",
    "\n",
    "c3 = Conv2D(unit_size*4, (3, 3), activation=DEFAULT_ACTIVATION, kernel_initializer='he_normal', padding='same') (p2)\n",
    "c3 = Dropout(dropout) (c3)\n",
    "c3 = Conv2D(unit_size*4, (3, 3), activation=DEFAULT_ACTIVATION, kernel_initializer='he_normal', padding='same') (c3)\n",
    "p3 = MaxPooling2D((2, 2)) (c3)\n",
    "\n",
    "c4 = Conv2D(unit_size*8, (3, 3), activation=DEFAULT_ACTIVATION, kernel_initializer='he_normal', padding='same') (p3)\n",
    "c4 = Dropout(dropout) (c4)\n",
    "c4 = Conv2D(unit_size*8, (3, 3), activation=DEFAULT_ACTIVATION, kernel_initializer='he_normal', padding='same') (c4)\n",
    "p4 = MaxPooling2D((2, 2)) (c4)\n",
    "\n",
    "c5 = Conv2D(unit_size*16, (3, 3), activation=DEFAULT_ACTIVATION, kernel_initializer='he_normal', padding='same') (p4)\n",
    "c5 = Dropout(dropout) (c5)\n",
    "c5 = Conv2D(unit_size*16, (3, 3), activation=DEFAULT_ACTIVATION, kernel_initializer='he_normal', padding='same') (c5)\n",
    "c5 = Dropout(dropout) (c5)\n",
    "c5 = Conv2D(unit_size*16, (3, 3), activation=DEFAULT_ACTIVATION, kernel_initializer='he_normal', padding='same') (c5)\n",
    "\n",
    "u6 = Conv2DTranspose(unit_size*8, (2, 2), strides=(2, 2), padding='same') (c5)\n",
    "u6 = concatenate([u6, c4])\n",
    "c6 = Conv2D(unit_size*8, (3, 3), activation=DEFAULT_ACTIVATION, kernel_initializer='he_normal', padding='same') (u6)\n",
    "c6 = Dropout(dropout) (c6)\n",
    "c6 = Conv2D(unit_size*8, (3, 3), activation=DEFAULT_ACTIVATION, kernel_initializer='he_normal', padding='same') (c6)\n",
    "\n",
    "u7 = Conv2DTranspose(unit_size*4, (2, 2), strides=(2, 2), padding='same') (c6)\n",
    "u7 = concatenate([u7, c3])\n",
    "c7 = Conv2D(unit_size*4, (3, 3), activation=DEFAULT_ACTIVATION, kernel_initializer='he_normal', padding='same') (u7)\n",
    "c7 = Dropout(dropout) (c7)\n",
    "c7 = Conv2D(unit_size*4, (3, 3), activation=DEFAULT_ACTIVATION, kernel_initializer='he_normal', padding='same') (c7)\n",
    "\n",
    "u8 = Conv2DTranspose(unit_size*2, (2, 2), strides=(2, 2), padding='same') (c7)\n",
    "u8 = concatenate([u8, c2])\n",
    "c8 = Conv2D(unit_size*2, (3, 3), activation=DEFAULT_ACTIVATION, kernel_initializer='he_normal', padding='same') (u8)\n",
    "c8 = Dropout(dropout) (c8)\n",
    "c8 = Conv2D(unit_size*2, (3, 3), activation=DEFAULT_ACTIVATION, kernel_initializer='he_normal', padding='same') (c8)\n",
    "\n",
    "u9 = Conv2DTranspose(unit_size, (2, 2), strides=(2, 2), padding='same') (c8)\n",
    "u9 = concatenate([u9, c1], axis=3)\n",
    "c9 = Conv2D(unit_size, (3, 3), activation=DEFAULT_ACTIVATION, kernel_initializer='he_normal', padding='same') (u9)\n",
    "c9 = Dropout(dropout) (c9)\n",
    "c9 = Conv2D(unit_size, (3, 3), activation=DEFAULT_ACTIVATION, kernel_initializer='he_normal', padding='same') (c9)\n",
    "outputs = Conv2D(1, (1, 1), activation='sigmoid') (c9)"
   ]
  },
  {
   "cell_type": "code",
   "execution_count": 17,
   "metadata": {},
   "outputs": [],
   "source": [
    "model = Model(inputs=[inputs], outputs=[outputs])"
   ]
  },
  {
   "cell_type": "code",
   "execution_count": 18,
   "metadata": {},
   "outputs": [],
   "source": [
    "def load_prediction_model(args):\n",
    "    try:\n",
    "        print (args.config_file[0]) \n",
    "        with open(args.config_file[0]) as json_file:\n",
    "              model_json = json_file.read()\n",
    "        model = model_from_json(model_json)\n",
    "        return model\n",
    "    except:\n",
    "        print (\"Please specify a model configuration file ...\")\n",
    "        sys.exit(1)\n",
    "        \n",
    "def load_prediction_model_weights(args):\n",
    "    try:\n",
    "        model.load_weights(args.weights_file[0])\n",
    "        print (\"Loaded model weights from: \" + str(args.weights_file[0]))\n",
    "        return model\n",
    "        \n",
    "    except:\n",
    "        print (\"Error loading model weights ...\")\n",
    "        sys.exit(1)"
   ]
  },
  {
   "cell_type": "code",
   "execution_count": 19,
   "metadata": {},
   "outputs": [
    {
     "name": "stdout",
     "output_type": "stream",
     "text": [
      "Loaded model weights from: ./model/trained_2018_02_15-18_06_57_weights_UNet.model\n"
     ]
    }
   ],
   "source": [
    "load_from_checkpoint = False\n",
    "load_model = False\n",
    "load_model_weights = True\n",
    "if load_from_checkpoint == True:\n",
    "    if use_dice == True:\n",
    "        model = load_model(os.path.join(args.output_dir[0]+'/checkpoint/UNet_dsbowl2018.h5'), \\\n",
    "                       custom_objects={'mean_iou': mean_iou, 'dice_coef': dice_coef, 'bce_dice': bce_dice})\n",
    "    else:\n",
    "        model = load_model(os.path.join(args.output_dir[0]+'/checkpoint/UNet_dsbowl2018.h5'), \\\n",
    "                       custom_objects={'mean_iou': mean_iou})\n",
    "elif load_model == True:\n",
    "    model = load_prediction_model(args)\n",
    "    model = load_prediction_model_weights(args)\n",
    "elif load_model_weights == True:\n",
    "    model = load_prediction_model_weights(args)\n",
    "else:\n",
    "    model = model"
   ]
  },
  {
   "cell_type": "markdown",
   "metadata": {},
   "source": [
    "### Select optimizer:"
   ]
  },
  {
   "cell_type": "code",
   "execution_count": 20,
   "metadata": {},
   "outputs": [],
   "source": [
    "sgd = SGD(lr=1e-7, decay=0.5, momentum=1, nesterov=True)\n",
    "rms = RMSprop(lr=1e-7, rho=0.9, epsilon=1e-08, decay=0.0)\n",
    "ada = Adagrad(lr=1e-3, epsilon=1e-08, decay=0.0)\n",
    "adam = Adam(lr=1e-5, beta_1=0.9, beta_2=0.999, epsilon=None, decay=0.0)\n",
    "    \n",
    "DEFAULT_OPTIMIZER = ada"
   ]
  },
  {
   "cell_type": "markdown",
   "metadata": {},
   "source": [
    "### Compile model and generate summary:"
   ]
  },
  {
   "cell_type": "code",
   "execution_count": 21,
   "metadata": {},
   "outputs": [],
   "source": [
    "use_dice = False\n",
    "use_dice_loss = True\n",
    "if use_dice ==True:\n",
    "    model.compile(optimizer = DEFAULT_OPTIMIZER, \n",
    "              loss = bce_dice, \n",
    "              metrics = ['binary_crossentropy', dice_coef, mean_iou])\n",
    "elif use_dice_loss ==True:\n",
    "    model.compile(optimizer = DEFAULT_OPTIMIZER, \n",
    "                   loss = dice_coef_loss, \n",
    "                   metrics = [dice_coef, 'acc', 'mse'])\n",
    "else:\n",
    "    model.compile(optimizer=DEFAULT_OPTIMIZER, loss='binary_crossentropy', metrics=[mean_iou])"
   ]
  },
  {
   "cell_type": "code",
   "execution_count": 22,
   "metadata": {},
   "outputs": [
    {
     "name": "stdout",
     "output_type": "stream",
     "text": [
      "__________________________________________________________________________________________________\n",
      "Layer (type)                    Output Shape         Param #     Connected to                     \n",
      "==================================================================================================\n",
      "input_1 (InputLayer)            (None, 256, 256, 3)  0                                            \n",
      "__________________________________________________________________________________________________\n",
      "lambda_1 (Lambda)               (None, 256, 256, 3)  0           input_1[0][0]                    \n",
      "__________________________________________________________________________________________________\n",
      "conv2d_1 (Conv2D)               (None, 256, 256, 16) 448         lambda_1[0][0]                   \n",
      "__________________________________________________________________________________________________\n",
      "dropout_1 (Dropout)             (None, 256, 256, 16) 0           conv2d_1[0][0]                   \n",
      "__________________________________________________________________________________________________\n",
      "conv2d_2 (Conv2D)               (None, 256, 256, 16) 2320        dropout_1[0][0]                  \n",
      "__________________________________________________________________________________________________\n",
      "max_pooling2d_1 (MaxPooling2D)  (None, 128, 128, 16) 0           conv2d_2[0][0]                   \n",
      "__________________________________________________________________________________________________\n",
      "conv2d_3 (Conv2D)               (None, 128, 128, 32) 4640        max_pooling2d_1[0][0]            \n",
      "__________________________________________________________________________________________________\n",
      "dropout_2 (Dropout)             (None, 128, 128, 32) 0           conv2d_3[0][0]                   \n",
      "__________________________________________________________________________________________________\n",
      "conv2d_4 (Conv2D)               (None, 128, 128, 32) 9248        dropout_2[0][0]                  \n",
      "__________________________________________________________________________________________________\n",
      "max_pooling2d_2 (MaxPooling2D)  (None, 64, 64, 32)   0           conv2d_4[0][0]                   \n",
      "__________________________________________________________________________________________________\n",
      "conv2d_5 (Conv2D)               (None, 64, 64, 64)   18496       max_pooling2d_2[0][0]            \n",
      "__________________________________________________________________________________________________\n",
      "dropout_3 (Dropout)             (None, 64, 64, 64)   0           conv2d_5[0][0]                   \n",
      "__________________________________________________________________________________________________\n",
      "conv2d_6 (Conv2D)               (None, 64, 64, 64)   36928       dropout_3[0][0]                  \n",
      "__________________________________________________________________________________________________\n",
      "max_pooling2d_3 (MaxPooling2D)  (None, 32, 32, 64)   0           conv2d_6[0][0]                   \n",
      "__________________________________________________________________________________________________\n",
      "conv2d_7 (Conv2D)               (None, 32, 32, 128)  73856       max_pooling2d_3[0][0]            \n",
      "__________________________________________________________________________________________________\n",
      "dropout_4 (Dropout)             (None, 32, 32, 128)  0           conv2d_7[0][0]                   \n",
      "__________________________________________________________________________________________________\n",
      "conv2d_8 (Conv2D)               (None, 32, 32, 128)  147584      dropout_4[0][0]                  \n",
      "__________________________________________________________________________________________________\n",
      "max_pooling2d_4 (MaxPooling2D)  (None, 16, 16, 128)  0           conv2d_8[0][0]                   \n",
      "__________________________________________________________________________________________________\n",
      "conv2d_9 (Conv2D)               (None, 16, 16, 256)  295168      max_pooling2d_4[0][0]            \n",
      "__________________________________________________________________________________________________\n",
      "dropout_5 (Dropout)             (None, 16, 16, 256)  0           conv2d_9[0][0]                   \n",
      "__________________________________________________________________________________________________\n",
      "conv2d_10 (Conv2D)              (None, 16, 16, 256)  590080      dropout_5[0][0]                  \n",
      "__________________________________________________________________________________________________\n",
      "dropout_6 (Dropout)             (None, 16, 16, 256)  0           conv2d_10[0][0]                  \n",
      "__________________________________________________________________________________________________\n",
      "conv2d_11 (Conv2D)              (None, 16, 16, 256)  590080      dropout_6[0][0]                  \n",
      "__________________________________________________________________________________________________\n",
      "conv2d_transpose_1 (Conv2DTrans (None, 32, 32, 128)  131200      conv2d_11[0][0]                  \n",
      "__________________________________________________________________________________________________\n",
      "concatenate_1 (Concatenate)     (None, 32, 32, 256)  0           conv2d_transpose_1[0][0]         \n",
      "                                                                 conv2d_8[0][0]                   \n",
      "__________________________________________________________________________________________________\n",
      "conv2d_12 (Conv2D)              (None, 32, 32, 128)  295040      concatenate_1[0][0]              \n",
      "__________________________________________________________________________________________________\n",
      "dropout_7 (Dropout)             (None, 32, 32, 128)  0           conv2d_12[0][0]                  \n",
      "__________________________________________________________________________________________________\n",
      "conv2d_13 (Conv2D)              (None, 32, 32, 128)  147584      dropout_7[0][0]                  \n",
      "__________________________________________________________________________________________________\n",
      "conv2d_transpose_2 (Conv2DTrans (None, 64, 64, 64)   32832       conv2d_13[0][0]                  \n",
      "__________________________________________________________________________________________________\n",
      "concatenate_2 (Concatenate)     (None, 64, 64, 128)  0           conv2d_transpose_2[0][0]         \n",
      "                                                                 conv2d_6[0][0]                   \n",
      "__________________________________________________________________________________________________\n",
      "conv2d_14 (Conv2D)              (None, 64, 64, 64)   73792       concatenate_2[0][0]              \n",
      "__________________________________________________________________________________________________\n",
      "dropout_8 (Dropout)             (None, 64, 64, 64)   0           conv2d_14[0][0]                  \n",
      "__________________________________________________________________________________________________\n",
      "conv2d_15 (Conv2D)              (None, 64, 64, 64)   36928       dropout_8[0][0]                  \n",
      "__________________________________________________________________________________________________\n",
      "conv2d_transpose_3 (Conv2DTrans (None, 128, 128, 32) 8224        conv2d_15[0][0]                  \n",
      "__________________________________________________________________________________________________\n",
      "concatenate_3 (Concatenate)     (None, 128, 128, 64) 0           conv2d_transpose_3[0][0]         \n",
      "                                                                 conv2d_4[0][0]                   \n",
      "__________________________________________________________________________________________________\n",
      "conv2d_16 (Conv2D)              (None, 128, 128, 32) 18464       concatenate_3[0][0]              \n",
      "__________________________________________________________________________________________________\n",
      "dropout_9 (Dropout)             (None, 128, 128, 32) 0           conv2d_16[0][0]                  \n",
      "__________________________________________________________________________________________________\n",
      "conv2d_17 (Conv2D)              (None, 128, 128, 32) 9248        dropout_9[0][0]                  \n",
      "__________________________________________________________________________________________________\n",
      "conv2d_transpose_4 (Conv2DTrans (None, 256, 256, 16) 2064        conv2d_17[0][0]                  \n",
      "__________________________________________________________________________________________________\n",
      "concatenate_4 (Concatenate)     (None, 256, 256, 32) 0           conv2d_transpose_4[0][0]         \n",
      "                                                                 conv2d_2[0][0]                   \n",
      "__________________________________________________________________________________________________\n",
      "conv2d_18 (Conv2D)              (None, 256, 256, 16) 4624        concatenate_4[0][0]              \n",
      "__________________________________________________________________________________________________\n",
      "dropout_10 (Dropout)            (None, 256, 256, 16) 0           conv2d_18[0][0]                  \n",
      "__________________________________________________________________________________________________\n",
      "conv2d_19 (Conv2D)              (None, 256, 256, 16) 2320        dropout_10[0][0]                 \n",
      "__________________________________________________________________________________________________\n",
      "conv2d_20 (Conv2D)              (None, 256, 256, 1)  17          conv2d_19[0][0]                  \n",
      "==================================================================================================\n",
      "Total params: 2,531,185\n",
      "Trainable params: 2,531,185\n",
      "Non-trainable params: 0\n",
      "__________________________________________________________________________________________________\n"
     ]
    }
   ],
   "source": [
    "model_summary = True\n",
    "if model_summary == True:\n",
    "    model.summary()"
   ]
  },
  {
   "cell_type": "markdown",
   "metadata": {},
   "source": [
    "### Visualize model architecture:"
   ]
  },
  {
   "cell_type": "code",
   "execution_count": null,
   "metadata": {},
   "outputs": [],
   "source": [
    "from keras.utils import plot_model \n",
    "import pydot \n",
    "import graphviz # apt-get install -y graphviz libgraphviz-dev \n",
    "from IPython.display import SVG \n",
    "from keras.utils.vis_utils import model_to_dot"
   ]
  },
  {
   "cell_type": "code",
   "execution_count": null,
   "metadata": {},
   "outputs": [],
   "source": [
    "plot_model(model, to_file= os.path.join(args.output_dir[0] + '/model.png')) \n",
    "SVG(model_to_dot(model).create(prog='dot', format='svg'))"
   ]
  },
  {
   "cell_type": "markdown",
   "metadata": {},
   "source": [
    "# Fit model:\n",
    "\n",
    "* Model architecture uses ELU units, \n",
    "* Additional dropout layers to manage over-fitting.\n",
    "* Fit the model on the training data, using a validation split:train split of 0.1. \n",
    "* Small batch size because due to small sized dataset. \n",
    "* Checkpointing and early stopping during training of the model."
   ]
  },
  {
   "cell_type": "code",
   "execution_count": 23,
   "metadata": {
    "_cell_guid": "9415b1c4-aa69-41b9-a1e3-d6053dbd4f64",
    "_uuid": "c060db22daa2abf12b28240cd81bbcbf1ce1bf87"
   },
   "outputs": [
    {
     "name": "stdout",
     "output_type": "stream",
     "text": [
      "Train on 4824 samples, validate on 536 samples\n",
      "Epoch 1/25\n",
      "4824/4824 [==============================] - 5192s 1s/step - loss: -0.7599 - dice_coef: 0.7599 - acc: 0.9130 - mean_squared_error: 0.0869 - val_loss: -0.8356 - val_dice_coef: 0.8356 - val_acc: 0.9510 - val_mean_squared_error: 0.0490\n",
      "\n",
      "Epoch 00001: val_loss improved from inf to -0.83561, saving model to ./model/checkpoint/UNet_dsbowl2018.h5\n",
      "Epoch 2/25\n",
      "4824/4824 [==============================] - 5133s 1s/step - loss: -0.8393 - dice_coef: 0.8393 - acc: 0.9499 - mean_squared_error: 0.0500 - val_loss: -0.8450 - val_dice_coef: 0.8450 - val_acc: 0.9543 - val_mean_squared_error: 0.0457\n",
      "\n",
      "Epoch 00002: val_loss improved from -0.83561 to -0.84501, saving model to ./model/checkpoint/UNet_dsbowl2018.h5\n",
      "Epoch 3/25\n",
      "4824/4824 [==============================] - 5157s 1s/step - loss: -0.8469 - dice_coef: 0.8469 - acc: 0.9521 - mean_squared_error: 0.0478 - val_loss: -0.8474 - val_dice_coef: 0.8474 - val_acc: 0.9549 - val_mean_squared_error: 0.0450\n",
      "\n",
      "Epoch 00003: val_loss improved from -0.84501 to -0.84743, saving model to ./model/checkpoint/UNet_dsbowl2018.h5\n",
      "Epoch 4/25\n",
      "4824/4824 [==============================] - 3188s 661ms/step - loss: -0.8508 - dice_coef: 0.8508 - acc: 0.9532 - mean_squared_error: 0.0467 - val_loss: -0.8511 - val_dice_coef: 0.8511 - val_acc: 0.9556 - val_mean_squared_error: 0.0444\n",
      "\n",
      "Epoch 00004: val_loss improved from -0.84743 to -0.85112, saving model to ./model/checkpoint/UNet_dsbowl2018.h5\n",
      "Epoch 5/25\n",
      "4824/4824 [==============================] - 2687s 557ms/step - loss: -0.8524 - dice_coef: 0.8524 - acc: 0.9539 - mean_squared_error: 0.0460 - val_loss: -0.8518 - val_dice_coef: 0.8518 - val_acc: 0.9561 - val_mean_squared_error: 0.0439\n",
      "\n",
      "Epoch 00005: val_loss improved from -0.85112 to -0.85185, saving model to ./model/checkpoint/UNet_dsbowl2018.h5\n",
      "Epoch 6/25\n",
      "4824/4824 [==============================] - 2664s 552ms/step - loss: -0.8542 - dice_coef: 0.8542 - acc: 0.9544 - mean_squared_error: 0.0455 - val_loss: -0.8538 - val_dice_coef: 0.8538 - val_acc: 0.9566 - val_mean_squared_error: 0.0433\n",
      "\n",
      "Epoch 00006: val_loss improved from -0.85185 to -0.85381, saving model to ./model/checkpoint/UNet_dsbowl2018.h5\n",
      "Epoch 7/25\n",
      "4824/4824 [==============================] - 2649s 549ms/step - loss: -0.8549 - dice_coef: 0.8549 - acc: 0.9548 - mean_squared_error: 0.0451 - val_loss: -0.8553 - val_dice_coef: 0.8553 - val_acc: 0.9568 - val_mean_squared_error: 0.0431\n",
      "\n",
      "Epoch 00007: val_loss improved from -0.85381 to -0.85525, saving model to ./model/checkpoint/UNet_dsbowl2018.h5\n",
      "Epoch 8/25\n",
      "4824/4824 [==============================] - 2655s 550ms/step - loss: -0.8570 - dice_coef: 0.8570 - acc: 0.9552 - mean_squared_error: 0.0447 - val_loss: -0.8560 - val_dice_coef: 0.8560 - val_acc: 0.9570 - val_mean_squared_error: 0.0429\n",
      "\n",
      "Epoch 00008: val_loss improved from -0.85525 to -0.85604, saving model to ./model/checkpoint/UNet_dsbowl2018.h5\n",
      "Epoch 9/25\n",
      "4824/4824 [==============================] - 3419s 709ms/step - loss: -0.8573 - dice_coef: 0.8573 - acc: 0.9555 - mean_squared_error: 0.0444 - val_loss: -0.8575 - val_dice_coef: 0.8575 - val_acc: 0.9574 - val_mean_squared_error: 0.0425\n",
      "\n",
      "Epoch 00009: val_loss improved from -0.85604 to -0.85746, saving model to ./model/checkpoint/UNet_dsbowl2018.h5\n",
      "Epoch 10/25\n",
      "4824/4824 [==============================] - 3324s 689ms/step - loss: -0.8583 - dice_coef: 0.8583 - acc: 0.9557 - mean_squared_error: 0.0443 - val_loss: -0.8582 - val_dice_coef: 0.8582 - val_acc: 0.9577 - val_mean_squared_error: 0.0422\n",
      "\n",
      "Epoch 00010: val_loss improved from -0.85746 to -0.85817, saving model to ./model/checkpoint/UNet_dsbowl2018.h5\n",
      "Epoch 11/25\n",
      "4824/4824 [==============================] - 4768s 988ms/step - loss: -0.8590 - dice_coef: 0.8590 - acc: 0.9559 - mean_squared_error: 0.0440 - val_loss: -0.8581 - val_dice_coef: 0.8581 - val_acc: 0.9578 - val_mean_squared_error: 0.0421\n",
      "\n",
      "Epoch 00011: val_loss did not improve\n",
      "Epoch 12/25\n",
      "4824/4824 [==============================] - 5577s 1s/step - loss: -0.8599 - dice_coef: 0.8599 - acc: 0.9562 - mean_squared_error: 0.0437 - val_loss: -0.8585 - val_dice_coef: 0.8585 - val_acc: 0.9581 - val_mean_squared_error: 0.0419\n",
      "\n",
      "Epoch 00012: val_loss improved from -0.85817 to -0.85850, saving model to ./model/checkpoint/UNet_dsbowl2018.h5\n",
      "Epoch 13/25\n",
      "4824/4824 [==============================] - 7375s 2s/step - loss: -0.8605 - dice_coef: 0.8605 - acc: 0.9565 - mean_squared_error: 0.0434 - val_loss: -0.8597 - val_dice_coef: 0.8597 - val_acc: 0.9582 - val_mean_squared_error: 0.0417\n",
      "\n",
      "Epoch 00013: val_loss improved from -0.85850 to -0.85969, saving model to ./model/checkpoint/UNet_dsbowl2018.h5\n",
      "Epoch 14/25\n",
      "4824/4824 [==============================] - 7442s 2s/step - loss: -0.8606 - dice_coef: 0.8606 - acc: 0.9565 - mean_squared_error: 0.0434 - val_loss: -0.8606 - val_dice_coef: 0.8606 - val_acc: 0.9585 - val_mean_squared_error: 0.0414\n",
      "\n",
      "Epoch 00014: val_loss improved from -0.85969 to -0.86062, saving model to ./model/checkpoint/UNet_dsbowl2018.h5\n",
      "Epoch 15/25\n",
      "4824/4824 [==============================] - 7329s 2s/step - loss: -0.8606 - dice_coef: 0.8606 - acc: 0.9567 - mean_squared_error: 0.0432 - val_loss: -0.8610 - val_dice_coef: 0.8610 - val_acc: 0.9587 - val_mean_squared_error: 0.0412\n",
      "\n",
      "Epoch 00015: val_loss improved from -0.86062 to -0.86096, saving model to ./model/checkpoint/UNet_dsbowl2018.h5\n",
      "Epoch 16/25\n",
      "4824/4824 [==============================] - 7463s 2s/step - loss: -0.8617 - dice_coef: 0.8617 - acc: 0.9569 - mean_squared_error: 0.0430 - val_loss: -0.8619 - val_dice_coef: 0.8619 - val_acc: 0.9590 - val_mean_squared_error: 0.0410\n",
      "\n",
      "Epoch 00016: val_loss improved from -0.86096 to -0.86188, saving model to ./model/checkpoint/UNet_dsbowl2018.h5\n",
      "Epoch 17/25\n",
      "4824/4824 [==============================] - 7432s 2s/step - loss: -0.8627 - dice_coef: 0.8627 - acc: 0.9570 - mean_squared_error: 0.0429 - val_loss: -0.8622 - val_dice_coef: 0.8622 - val_acc: 0.9591 - val_mean_squared_error: 0.0408\n",
      "\n",
      "Epoch 00017: val_loss improved from -0.86188 to -0.86219, saving model to ./model/checkpoint/UNet_dsbowl2018.h5\n",
      "Epoch 18/25\n",
      "4824/4824 [==============================] - 7426s 2s/step - loss: -0.8628 - dice_coef: 0.8628 - acc: 0.9571 - mean_squared_error: 0.0428 - val_loss: -0.8624 - val_dice_coef: 0.8624 - val_acc: 0.9593 - val_mean_squared_error: 0.0406\n",
      "\n",
      "Epoch 00018: val_loss improved from -0.86219 to -0.86243, saving model to ./model/checkpoint/UNet_dsbowl2018.h5\n",
      "Epoch 19/25\n",
      "4824/4824 [==============================] - 7489s 2s/step - loss: -0.8638 - dice_coef: 0.8638 - acc: 0.9574 - mean_squared_error: 0.0425 - val_loss: -0.8628 - val_dice_coef: 0.8628 - val_acc: 0.9592 - val_mean_squared_error: 0.0407\n",
      "\n",
      "Epoch 00019: val_loss improved from -0.86243 to -0.86281, saving model to ./model/checkpoint/UNet_dsbowl2018.h5\n",
      "Epoch 20/25\n",
      "4824/4824 [==============================] - 7422s 2s/step - loss: -0.8638 - dice_coef: 0.8638 - acc: 0.9574 - mean_squared_error: 0.0425 - val_loss: -0.8635 - val_dice_coef: 0.8635 - val_acc: 0.9594 - val_mean_squared_error: 0.0405\n",
      "\n",
      "Epoch 00020: val_loss improved from -0.86281 to -0.86351, saving model to ./model/checkpoint/UNet_dsbowl2018.h5\n",
      "Epoch 21/25\n",
      "4824/4824 [==============================] - 7414s 2s/step - loss: -0.8628 - dice_coef: 0.8628 - acc: 0.9574 - mean_squared_error: 0.0425 - val_loss: -0.8638 - val_dice_coef: 0.8638 - val_acc: 0.9596 - val_mean_squared_error: 0.0403\n",
      "\n",
      "Epoch 00021: val_loss improved from -0.86351 to -0.86381, saving model to ./model/checkpoint/UNet_dsbowl2018.h5\n",
      "Epoch 22/25\n",
      "4824/4824 [==============================] - 7389s 2s/step - loss: -0.8637 - dice_coef: 0.8637 - acc: 0.9575 - mean_squared_error: 0.0424 - val_loss: -0.8642 - val_dice_coef: 0.8642 - val_acc: 0.9598 - val_mean_squared_error: 0.0401\n",
      "\n",
      "Epoch 00022: val_loss improved from -0.86381 to -0.86419, saving model to ./model/checkpoint/UNet_dsbowl2018.h5\n",
      "Epoch 23/25\n",
      "4824/4824 [==============================] - 7377s 2s/step - loss: -0.8642 - dice_coef: 0.8642 - acc: 0.9577 - mean_squared_error: 0.0422 - val_loss: -0.8647 - val_dice_coef: 0.8647 - val_acc: 0.9599 - val_mean_squared_error: 0.0400\n",
      "\n",
      "Epoch 00023: val_loss improved from -0.86419 to -0.86474, saving model to ./model/checkpoint/UNet_dsbowl2018.h5\n"
     ]
    },
    {
     "name": "stdout",
     "output_type": "stream",
     "text": [
      "Epoch 24/25\n",
      "4824/4824 [==============================] - 7328s 2s/step - loss: -0.8648 - dice_coef: 0.8648 - acc: 0.9578 - mean_squared_error: 0.0422 - val_loss: -0.8652 - val_dice_coef: 0.8652 - val_acc: 0.9601 - val_mean_squared_error: 0.0399\n",
      "\n",
      "Epoch 00024: val_loss improved from -0.86474 to -0.86521, saving model to ./model/checkpoint/UNet_dsbowl2018.h5\n",
      "Epoch 25/25\n",
      "4824/4824 [==============================] - 7330s 2s/step - loss: -0.8649 - dice_coef: 0.8649 - acc: 0.9578 - mean_squared_error: 0.0421 - val_loss: -0.8655 - val_dice_coef: 0.8655 - val_acc: 0.9603 - val_mean_squared_error: 0.0396\n",
      "\n",
      "Epoch 00025: val_loss improved from -0.86521 to -0.86555, saving model to ./model/checkpoint/UNet_dsbowl2018.h5\n"
     ]
    }
   ],
   "source": [
    "earlystopper = EarlyStopping(patience=5, verbose=1)\n",
    "checkpointer = ModelCheckpoint(os.path.join(args.output_dir[0]+'checkpoint/UNet_dsbowl2018.h5'),\\\n",
    "                               verbose=1,\\\n",
    "                               save_best_only=True)\n",
    "results = model.fit(X_train, Y_train, validation_split=0.1, batch_size=16, epochs=25, \n",
    "                    callbacks=[earlystopper, checkpointer])"
   ]
  },
  {
   "cell_type": "markdown",
   "metadata": {},
   "source": [
    "# Save model to disk:"
   ]
  },
  {
   "cell_type": "code",
   "execution_count": null,
   "metadata": {},
   "outputs": [],
   "source": [
    "def generate_timestamp():\n",
    "    timestring = time.strftime(\"%Y_%m_%d-%H_%M_%S\")\n",
    "    print (\"Time stamp generated: \"+timestring)\n",
    "    return timestring"
   ]
  },
  {
   "cell_type": "code",
   "execution_count": null,
   "metadata": {},
   "outputs": [],
   "source": [
    "timestr = generate_timestamp()"
   ]
  },
  {
   "cell_type": "code",
   "execution_count": null,
   "metadata": {},
   "outputs": [],
   "source": [
    "def save_model(args, name, model):\n",
    "    file_loc = args.output_dir[0]\n",
    "    file_pointer = os.path.join(file_loc+\"//trained_\"+ timestr)\n",
    "    model.save_weights(os.path.join(file_pointer + \"_weights\"+str(name)+\".model\"))    \n",
    "    model_json = model.to_json()\n",
    "    with open(os.path.join(file_pointer+\"_config\"+str(name)+\".json\"), \"w\") as json_file:\n",
    "        json_file.write(model_json)\n",
    "    print (\"Saved the trained model weights to: \" + \n",
    "           str(os.path.join(file_pointer + \"_weights\"+str(name)+\".model\")))\n",
    "    print (\"Saved the trained model configuration as a json file to: \" + \n",
    "    str(os.path.join(file_pointer+\"_config\"+str(name)+\".json\")))"
   ]
  },
  {
   "cell_type": "code",
   "execution_count": null,
   "metadata": {},
   "outputs": [],
   "source": [
    "save_model(args, '_UNet', model)"
   ]
  },
  {
   "cell_type": "markdown",
   "metadata": {},
   "source": [
    "# Retrain the model:"
   ]
  },
  {
   "cell_type": "code",
   "execution_count": null,
   "metadata": {},
   "outputs": [],
   "source": [
    "earlystopper = EarlyStopping(patience=5, verbose=1)\n",
    "checkpointer = ModelCheckpoint(os.path.join(args.output_dir[0]+'checkpoint/UNet_dsbowl2018_2.h5'),\\\n",
    "                               verbose=1,\\\n",
    "                               save_best_only=True)\n",
    "results = model.fit(X_train, Y_train, validation_split=0.1, batch_size=67, epochs=50, \n",
    "                    callbacks=[earlystopper, checkpointer])"
   ]
  },
  {
   "cell_type": "markdown",
   "metadata": {
    "_cell_guid": "1f381f5b-1b71-4daa-a417-e02f4894540b",
    "_uuid": "bb15226ea617cf91ed8f43179fccb5a15809e5a0"
   },
   "source": [
    "# Load saved model:"
   ]
  },
  {
   "cell_type": "code",
   "execution_count": null,
   "metadata": {},
   "outputs": [],
   "source": [
    "load_from_checkpoint = False\n",
    "load_model = False\n",
    "load_model_weights = True\n",
    "if load_from_checkpoint == True:\n",
    "    if use_dice == True:\n",
    "        model = load_model(os.path.join(args.output_dir[0]+'/checkpoint/UNet_dsbowl2018.h5'), \\\n",
    "                       custom_objects={'mean_iou': mean_iou, 'dice_coef': dice_coef, 'bce_dice': bce_dice})\n",
    "    else:\n",
    "        model = load_model(os.path.join(args.output_dir[0]+'/checkpoint/UNet_dsbowl2018.h5'), \\\n",
    "                       custom_objects={'mean_iou': mean_iou})\n",
    "elif load_model == True:\n",
    "    model = load_prediction_model(args)\n",
    "    model = load_prediction_model_weights(args)\n",
    "elif load_model_weights == True:\n",
    "    model = load_prediction_model_weights(args)\n",
    "else:\n",
    "    model = model"
   ]
  },
  {
   "cell_type": "markdown",
   "metadata": {},
   "source": [
    "#  Generate predictions:\n",
    "\n",
    "### Run predictions on train, validation and test:"
   ]
  },
  {
   "cell_type": "code",
   "execution_count": null,
   "metadata": {},
   "outputs": [],
   "source": [
    "preds_train = model.predict(X_train[:int(X_train.shape[0]*0.9)], verbose=1)\n",
    "preds_val = model.predict(X_train[int(X_train.shape[0]*0.9):], verbose=1)\n",
    "preds_test = model.predict(X_test, verbose=1)"
   ]
  },
  {
   "cell_type": "markdown",
   "metadata": {},
   "source": [
    "### Threshold predictions:"
   ]
  },
  {
   "cell_type": "code",
   "execution_count": null,
   "metadata": {},
   "outputs": [],
   "source": [
    "preds_train_t = (preds_train > 0.5).astype(np.uint8)\n",
    "preds_val_t = (preds_val > 0.5).astype(np.uint8)\n",
    "preds_test_t = (preds_test > 0.5).astype(np.uint8)"
   ]
  },
  {
   "cell_type": "markdown",
   "metadata": {},
   "source": [
    "### Create list of upsampled test masks:"
   ]
  },
  {
   "cell_type": "code",
   "execution_count": null,
   "metadata": {
    "_cell_guid": "2daa48d5-ac98-4e18-af3f-a582baaa44f0",
    "_uuid": "f841760b4abca1a25cb750822f88268bd79bf2ce"
   },
   "outputs": [],
   "source": [
    "preds_test_upsampled = []\n",
    "for i in range(len(preds_test)):\n",
    "    preds_test_upsampled.append(resize(np.squeeze(preds_test[i]), \n",
    "                                       (sizes_test[i][0], sizes_test[i][1]), \n",
    "                                       mode='constant', preserve_range=True))"
   ]
  },
  {
   "cell_type": "markdown",
   "metadata": {},
   "source": [
    "### Visual comparison of predictions with random training samples:"
   ]
  },
  {
   "cell_type": "code",
   "execution_count": null,
   "metadata": {
    "_cell_guid": "649248cd-a1fb-4da6-ade2-4bebad44bcab",
    "_uuid": "7e06242a50870e07a080064a4912b761775990fa"
   },
   "outputs": [],
   "source": [
    "ix = random.randint(0, len(preds_train_t))\n",
    "imshow(X_train[ix])\n",
    "plt.show()\n",
    "imshow(np.squeeze(Y_train[ix]))\n",
    "plt.show()\n",
    "imshow(np.squeeze(preds_train_t[ix]))\n",
    "plt.show()"
   ]
  },
  {
   "cell_type": "markdown",
   "metadata": {
    "_cell_guid": "af602aea-5e56-42a8-9331-54b4b2650593",
    "_uuid": "5fcee2b9aee2fba5c60d43ad48a14139e9c1318c"
   },
   "source": [
    "The model is at least able to fit to the training data! Certainly a lot of room for improvement even here, but a decent start. How about the validation data?"
   ]
  },
  {
   "cell_type": "markdown",
   "metadata": {},
   "source": [
    "###  Visual comparison of predictions against random validation samples:"
   ]
  },
  {
   "cell_type": "code",
   "execution_count": null,
   "metadata": {
    "_cell_guid": "4f66b75c-c694-41a1-8c91-34bb6595837b",
    "_uuid": "d4ccbb559375bc2777ffb692a20adc313159f2cc"
   },
   "outputs": [],
   "source": [
    "ix = random.randint(0, len(preds_val_t))\n",
    "imshow(X_train[int(X_train.shape[0]*0.9):][ix])\n",
    "plt.show()\n",
    "imshow(np.squeeze(Y_train[int(Y_train.shape[0]*0.9):][ix]))\n",
    "plt.show()\n",
    "imshow(np.squeeze(preds_val_t[ix]))\n",
    "plt.show()"
   ]
  },
  {
   "cell_type": "markdown",
   "metadata": {
    "_cell_guid": "a6690535-b2e4-49ac-98d9-7191bfabfb6f",
    "_uuid": "6a34c98de7c6ae473f676a34fe7e099b46764eca"
   },
   "source": [
    "# Encode and submit results:\n",
    "\n",
    "* To submit our results, the output needs run-length encoding. \n",
    "* This notebook uses run-length encoding function described [here](https://www.kaggle.com/rakhlin/fast-run-length-encoding-python)."
   ]
  },
  {
   "cell_type": "markdown",
   "metadata": {},
   "source": [
    "### Run-length encoding:"
   ]
  },
  {
   "cell_type": "code",
   "execution_count": null,
   "metadata": {
    "_cell_guid": "59a0af60-a7d7-41ef-a6fe-9e3c72defa07",
    "_uuid": "4f99c1bf852e82b60bd4f982ca0df293f712cdf0"
   },
   "outputs": [],
   "source": [
    "def rle_encoding(x):\n",
    "    dots = np.where(x.T.flatten() == 1)[0]\n",
    "    run_lengths = []\n",
    "    prev = -2\n",
    "    for b in dots:\n",
    "        if (b>prev+1): run_lengths.extend((b + 1, 0))\n",
    "        run_lengths[-1] += 1\n",
    "        prev = b\n",
    "    return run_lengths\n",
    "\n",
    "def prob_to_rles(x, cutoff=0.5):\n",
    "    lab_img = label(x > cutoff)\n",
    "    for i in range(1, lab_img.max() + 1):\n",
    "        yield rle_encoding(lab_img == i)"
   ]
  },
  {
   "cell_type": "markdown",
   "metadata": {
    "_cell_guid": "31133f8c-3f40-4dff-8e1d-898d56672332",
    "_uuid": "2e07f6afc4787b068ba714428145dcb3951d718f"
   },
   "source": [
    "### Generate a complete submission:\n",
    "Iterate through test IDs to generate run-length encodings for each seperate mask:"
   ]
  },
  {
   "cell_type": "code",
   "execution_count": null,
   "metadata": {
    "_cell_guid": "22fe24a1-7659-4cc9-9d23-211f38e5b99f",
    "_uuid": "089587843ed6a3955fdcb9b23a6ec3bf5d703688"
   },
   "outputs": [],
   "source": [
    "new_test_ids = []\n",
    "rles = []\n",
    "for n, id_ in enumerate(test_ids):\n",
    "    rle = list(prob_to_rles(preds_test_upsampled[n]))\n",
    "    rles.extend(rle)\n",
    "    new_test_ids.extend([id_] * len(rle))"
   ]
  },
  {
   "cell_type": "markdown",
   "metadata": {},
   "source": [
    "### Create submission data frame:"
   ]
  },
  {
   "cell_type": "code",
   "execution_count": null,
   "metadata": {
    "_cell_guid": "1ba0ee3a-cca0-4349-83f6-09a1ac6fcb44",
    "_uuid": "ba589f56f5be1e6886bc88f5bf9e7d0a408e4048"
   },
   "outputs": [],
   "source": [
    "sub = pd.DataFrame()\n",
    "sub['ImageId'] = new_test_ids\n",
    "sub['EncodedPixels'] = pd.Series(rles).apply(lambda x: ' '.join(str(y) for y in x))\n",
    "sub.to_csv('./sub-dsbowl2018-UNet_20180212_05.csv', index=False)"
   ]
  },
  {
   "cell_type": "markdown",
   "metadata": {
    "_cell_guid": "222475b9-3171-461a-90f0-a820a6bd2634",
    "_uuid": "fb5e6f8cca872f1bd7036f6d9ac2ed2cab615536",
    "collapsed": true
   },
   "source": [
    "### Notes for improvements the results:\n",
    "\n",
    "* Adjust hyper-parameters, \n",
    "* Tweaking the architecture a little bit\n",
    "* Train the model for a longer duration with early stopping\n",
    "\n",
    "**Have fun!**"
   ]
  },
  {
   "cell_type": "code",
   "execution_count": null,
   "metadata": {},
   "outputs": [],
   "source": []
  }
 ],
 "metadata": {
  "kernelspec": {
   "display_name": "Python 3",
   "language": "python",
   "name": "python3"
  },
  "language_info": {
   "codemirror_mode": {
    "name": "ipython",
    "version": 3
   },
   "file_extension": ".py",
   "mimetype": "text/x-python",
   "name": "python",
   "nbconvert_exporter": "python",
   "pygments_lexer": "ipython3",
   "version": "3.6.3"
  }
 },
 "nbformat": 4,
 "nbformat_minor": 1
}
