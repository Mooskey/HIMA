{
 "cells": [
  {
   "cell_type": "markdown",
   "metadata": {},
   "source": [
    "# Regions with Convolutional Neural Networks model for image segmentation:"
   ]
  },
  {
   "cell_type": "code",
   "execution_count": null,
   "metadata": {},
   "outputs": [],
   "source": [
    "import Mask_RCNN.functions as f\n",
    "import Mask_RCNN.utils as utils\n",
    "\n",
    "from Mask_RCNN.bowl_config import bowl_config\n",
    "from Mask_RCNN.bowl_dataset import BowlDataset\n",
    "from Mask_RCNN.model import log\n",
    "from Mask_RCNN.inference_config import inference_config\n",
    "from Mask_RCNN.utils import rle_encode, rle_decode, rle_to_string\n",
    "\n",
    "from Mask_RCNN import model as modellib\n",
    "from Mask_RCNN.bowl_config import bowl_config\n",
    "from Mask_RCNN.bowl_dataset import BowlDataset\n",
    "from Mask_RCNN.model import log"
   ]
  },
  {
   "cell_type": "code",
   "execution_count": null,
   "metadata": {},
   "outputs": [],
   "source": [
    "import pandas as pd\n",
    "import cv2\n",
    "import numpy as np\n",
    "\n",
    "from tqdm import tqdm"
   ]
  },
  {
   "cell_type": "code",
   "execution_count": null,
   "metadata": {},
   "outputs": [],
   "source": [
    "import os\n",
    "import time\n",
    "\n",
    "from glob import glob"
   ]
  },
  {
   "cell_type": "markdown",
   "metadata": {},
   "source": [
    "## Root directory of the project:"
   ]
  },
  {
   "cell_type": "code",
   "execution_count": null,
   "metadata": {},
   "outputs": [],
   "source": [
    "ROOT_DIR = os.getcwd()"
   ]
  },
  {
   "cell_type": "markdown",
   "metadata": {},
   "source": [
    "## Directory to save logs and trained model:"
   ]
  },
  {
   "cell_type": "code",
   "execution_count": null,
   "metadata": {},
   "outputs": [],
   "source": [
    "MODEL_DIR = os.path.join(ROOT_DIR, \"model/checkpoint\")"
   ]
  },
  {
   "cell_type": "code",
   "execution_count": null,
   "metadata": {},
   "outputs": [],
   "source": [
    "gen_predictions = True\n",
    "train_model = False\n",
    "\n",
    "if gen_predictions:\n",
    "    model = modellib.MaskRCNN(mode=\"inference\", \n",
    "                              config=inference_config,\n",
    "                              model_dir=MODEL_DIR)\n",
    "elif train_model:\n",
    "    model = modellib.MaskRCNN(mode=\"training\", \n",
    "                              config=bowl_config,\n",
    "                              model_dir=MODEL_DIR)"
   ]
  },
  {
   "cell_type": "code",
   "execution_count": null,
   "metadata": {},
   "outputs": [],
   "source": [
    "CHECKPOINT_PATH = os.path.join(MODEL_DIR, 'mask_rcnn_bowl_0001.h5')"
   ]
  },
  {
   "cell_type": "code",
   "execution_count": null,
   "metadata": {},
   "outputs": [],
   "source": [
    "if train_model !=False:\n",
    "    # Training dataset\n",
    "    dataset_train = BowlDataset()\n",
    "    dataset_train.load_bowl('./fixed_data/train')\n",
    "    dataset_train.prepare()"
   ]
  },
  {
   "cell_type": "code",
   "execution_count": null,
   "metadata": {},
   "outputs": [],
   "source": [
    "if train_model != False:\n",
    "    # Validation dataset\n",
    "    dataset_val = BowlDataset()\n",
    "    dataset_val.load_bowl('./fixed_data/train')\n",
    "    dataset_val.prepare()"
   ]
  },
  {
   "cell_type": "code",
   "execution_count": null,
   "metadata": {},
   "outputs": [],
   "source": [
    "TEST_DIR = './test_2/'"
   ]
  },
  {
   "cell_type": "code",
   "execution_count": null,
   "metadata": {},
   "outputs": [],
   "source": [
    "if gen_predictions:\n",
    "    # Test dataset\n",
    "    dataset_test = BowlDataset()\n",
    "    dataset_test.load_bowl(TEST_DIR)\n",
    "    dataset_test.prepare()"
   ]
  },
  {
   "cell_type": "markdown",
   "metadata": {},
   "source": [
    "### Build RCNN model:"
   ]
  },
  {
   "cell_type": "code",
   "execution_count": null,
   "metadata": {},
   "outputs": [],
   "source": [
    "if train_model !=False:\n",
    "    # Which weights to start with?\n",
    "    init_with = \"checkpoint\"  # imagenet, coco, checkpoint or last\n",
    "else:\n",
    "    init_with = \"last\" # last or checkpoint"
   ]
  },
  {
   "cell_type": "code",
   "execution_count": null,
   "metadata": {},
   "outputs": [],
   "source": [
    "if train_model !=False:\n",
    "    if init_with == \"imagenet\":\n",
    "        model.load_weights(model.get_imagenet_weights(), by_name=True)\n",
    "    elif init_with == \"coco\":\n",
    "        # Load weights trained on MS COCO, but skip layers that\n",
    "        # are different due to the different number of classes\n",
    "        # See README for instructions to download the COCO weights\n",
    "        model.load_weights(COCO_MODEL_PATH, by_name=True,\n",
    "                           exclude=[\"mrcnn_class_logits\", \"mrcnn_bbox_fc\", \n",
    "                                    \"mrcnn_bbox\", \"mrcnn_mask\"])\n",
    "    elif init_with == \"checkpoint\":\n",
    "        model.load_weights(CHECKPOINT_PATH, by_name=False)\n",
    "    elif init_with == \"last\":\n",
    "        # Load the last model you trained and continue training\n",
    "        model.load_weights(model.find_last()[1], by_name=True)\n",
    "    \n",
    "    model.train(dataset_train,dataset_val, \n",
    "                learning_rate=bowl_config.LEARNING_RATE / 10,\n",
    "                epochs=2, \n",
    "                layers=\"all\")\n",
    "elif gen_predictions:\n",
    "    if init_with == \"checkpoint\":\n",
    "            model.load_weights(CHECKPOINT_PATH, by_name=False)\n",
    "    else:\n",
    "        # Recreate the model in inference mode\n",
    "        model = modellib.MaskRCNN(mode=\"inference\", \n",
    "                              config=inference_config,\n",
    "                              model_dir=MODEL_DIR)\n",
    "        model_path = model.find_last()[1]\n",
    "        # Load trained weights (fill in path to trained weights here)\n",
    "        assert model_path != \"\", \"Provide path to trained weights\"\n",
    "        print(\"Loading weights from \", model_path)\n",
    "        model.load_weights(model_path, by_name=True)"
   ]
  },
  {
   "cell_type": "code",
   "execution_count": null,
   "metadata": {},
   "outputs": [],
   "source": [
    "SUBMISSION_FILE = './stage2_sample_submission_final.csv'\n",
    "\n",
    "def generate_RCNN_prediction(model = None, \\\n",
    "                             SUBMISSION_FILE = None, \\\n",
    "                             TEST_DIR = None, \\\n",
    "                             OUTPUT_FILE = None):\n",
    "    \n",
    "    output = []\n",
    "    sample_submission = pd.read_csv(SUBMISSION_FILE)\n",
    "    \n",
    "    ImageId = []\n",
    "    EncodedPixels = []\n",
    "    \n",
    "    for image_id in tqdm(sample_submission.ImageId):\n",
    "        image_path = os.path.join(TEST_DIR, image_id, 'images', image_id + '.png')\n",
    "    \n",
    "        original_image = cv2.imread(image_path)\n",
    "        results = model.detect([original_image], verbose=0)\n",
    "        r = results[0]\n",
    "    \n",
    "        masks = r['masks']\n",
    "        \n",
    "        ImageId_batch, EncodedPixels_batch = f.numpy2encoding_no_overlap2(masks, image_id, r['scores'])\n",
    "        ImageId += ImageId_batch\n",
    "        EncodedPixels += EncodedPixels_batch\n",
    "    \n",
    "    f.write2csv(OUTPUT_FILE, ImageId, EncodedPixels)"
   ]
  },
  {
   "cell_type": "code",
   "execution_count": null,
   "metadata": {},
   "outputs": [],
   "source": [
    "def generate_timestamp():\n",
    "    timestring = time.strftime(\"%Y_%m_%d-%H_%M_%S\")\n",
    "    print (\"Time stamp generated: \"+timestring)\n",
    "    return timestring"
   ]
  },
  {
   "cell_type": "code",
   "execution_count": null,
   "metadata": {},
   "outputs": [],
   "source": [
    "timestr = generate_timestamp()"
   ]
  },
  {
   "cell_type": "code",
   "execution_count": null,
   "metadata": {},
   "outputs": [],
   "source": [
    "generate_RCNN_prediction(model = model,\n",
    "                         SUBMISSION_FILE = SUBMISSION_FILE,\n",
    "                         TEST_DIR = TEST_DIR,\n",
    "                         OUTPUT_FILE = os.path.join('./sub-dsbowl2018-RCNN_'+ timestr + '.csv'))"
   ]
  },
  {
   "cell_type": "code",
   "execution_count": null,
   "metadata": {},
   "outputs": [],
   "source": []
  }
 ],
 "metadata": {
  "kernelspec": {
   "display_name": "Python 3 (Intel, 2018 update 1)",
   "language": "python",
   "name": "intel_distribution_of_python_3_2018u1"
  },
  "language_info": {
   "codemirror_mode": {
    "name": "ipython",
    "version": 3
   },
   "file_extension": ".py",
   "mimetype": "text/x-python",
   "name": "python",
   "nbconvert_exporter": "python",
   "pygments_lexer": "ipython3",
   "version": "3.6.3"
  }
 },
 "nbformat": 4,
 "nbformat_minor": 1
}
