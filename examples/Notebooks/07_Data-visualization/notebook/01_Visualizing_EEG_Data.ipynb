{
 "cells": [
  {
   "cell_type": "markdown",
   "metadata": {
    "colab_type": "text",
    "id": "bbEL8nET57OU"
   },
   "source": [
    "# Visualizing EEG Data using MNE\n",
    "\n",
    "\n",
    "#### Authors: \n",
    "- Dr. Rahul Remanan <rahul@moad.computer>\n",
    "- Brian Parbhu\n",
    "- Martin Luessi <mluessi@nmr.mgh.harvard.edu>\n",
    "- Alexandre Gramfort <alexandre.gramfort@telecom-paristech.fr>\n",
    "- Nicolas P. Rougier (graph code borrowed from his matplotlib gallery)\n",
    "- Clemens Bruner - (borowed examples from his blog)"
   ]
  },
  {
   "cell_type": "markdown",
   "metadata": {},
   "source": [
    "#### Install dependencies"
   ]
  },
  {
   "cell_type": "code",
   "execution_count": null,
   "metadata": {
    "colab": {
     "base_uri": "https://localhost:8080/",
     "height": 272
    },
    "colab_type": "code",
    "id": "pbs0PI8VJ4ol",
    "outputId": "4a684f17-1e48-40d9-bc91-2d95224f4a7c"
   },
   "outputs": [],
   "source": [
    "setup = False\n",
    "set_trace = False\n",
    "if setup:\n",
    "    !pip3 install mne\n",
    "    !pip3 install PyQt5\n",
    "    !pip3 install PySide2\n",
    "    !pip3 install scikit-learn\n",
    "    !pip3 install scipy\n",
    "    !pip3 install wget"
   ]
  },
  {
   "cell_type": "markdown",
   "metadata": {
    "colab_type": "text",
    "id": "6d8QudsQ9c7F"
   },
   "source": [
    "**Import dependencies**"
   ]
  },
  {
   "cell_type": "code",
   "execution_count": null,
   "metadata": {
    "colab": {},
    "colab_type": "code",
    "id": "BJzsgr6-9boi"
   },
   "outputs": [],
   "source": [
    "from scipy.io import loadmat\n",
    "import wget\n",
    "from datetime import date\n",
    "import numpy as np\n",
    "import ipdb"
   ]
  },
  {
   "cell_type": "code",
   "execution_count": null,
   "metadata": {
    "colab": {
     "base_uri": "https://localhost:8080/",
     "height": 663
    },
    "colab_type": "code",
    "id": "MGTAWByGJ4o1",
    "outputId": "2d77753d-f3a9-4c7c-db72-021d832b1fcc"
   },
   "outputs": [],
   "source": [
    "import matplotlib\n",
    "matplotlib.use('nbagg')\n",
    "import matplotlib.pyplot as plt"
   ]
  },
  {
   "cell_type": "code",
   "execution_count": null,
   "metadata": {
    "colab": {},
    "colab_type": "code",
    "id": "tyj_IesIJ4o6"
   },
   "outputs": [],
   "source": [
    "from sklearn.pipeline import Pipeline\n",
    "from sklearn.discriminant_analysis import LinearDiscriminantAnalysis\n",
    "from sklearn.model_selection import ShuffleSplit, cross_val_score"
   ]
  },
  {
   "cell_type": "code",
   "execution_count": null,
   "metadata": {
    "colab": {},
    "colab_type": "code",
    "id": "a513MPGFJ4pA"
   },
   "outputs": [],
   "source": [
    "import mne\n",
    "from mne import Epochs, pick_types, find_events\n",
    "from mne.channels import read_layout\n",
    "from mne.io import concatenate_raws, read_raw_edf\n",
    "from mne.datasets import eegbci\n",
    "from mne.decoding import CSP\n",
    "from mne.datasets import sample\n",
    "from mne.minimum_norm import apply_inverse_epochs, read_inverse_operator\n",
    "from mne.connectivity import spectral_connectivity\n",
    "from mne.viz import circular_layout, plot_connectivity_circle"
   ]
  },
  {
   "cell_type": "markdown",
   "metadata": {
    "colab_type": "text",
    "id": "_7q9j4FODuIa"
   },
   "source": [
    "## Part 01 -- Visualization of EEG Channels"
   ]
  },
  {
   "cell_type": "markdown",
   "metadata": {
    "colab_type": "text",
    "id": "mh7P3LzE8_g2"
   },
   "source": [
    "**Here's an example of how EEG channels are displayed in the 10-20 system**\n",
    "\n",
    "> Here we will showcase the different channel positions within the 10-20 system.\n",
    "\n"
   ]
  },
  {
   "cell_type": "code",
   "execution_count": null,
   "metadata": {
    "colab": {
     "base_uri": "https://localhost:8080/",
     "height": 646
    },
    "colab_type": "code",
    "id": "EJfGzcgLC_iX",
    "outputId": "ca17da85-020c-4951-842d-c0e749854bac"
   },
   "outputs": [],
   "source": [
    "# We need to load our subject data\n",
    "# If you want to supress the output log of download info use this line\n",
    "mne.set_log_level(\"WARNING\")\n",
    "subject = 4\n",
    "runs = [4, 8 ,12]\n",
    "raw_fnames = eegbci.load_data(subject, runs)\n",
    "raw_files = [read_raw_edf(f, preload=True, stim_channel='auto') for f in\n",
    "             raw_fnames]\n",
    "raw = concatenate_raws(raw_files)\n",
    "\n",
    "# Let's print some metadata about our subject data\n",
    "print(raw)\n",
    "print(raw.info)"
   ]
  },
  {
   "cell_type": "code",
   "execution_count": null,
   "metadata": {
    "colab": {
     "base_uri": "https://localhost:8080/",
     "height": 34
    },
    "colab_type": "code",
    "id": "czp54j5lHOku",
    "outputId": "e75ea48b-71c4-4106-f755-e7339768fa1f"
   },
   "outputs": [],
   "source": [
    "# You can index metadata about your dataset you want to \n",
    "# look via dictionary indexing\n",
    "print(raw.info[\"sfreq\"])"
   ]
  },
  {
   "cell_type": "markdown",
   "metadata": {
    "colab_type": "text",
    "id": "7Hq3pcovHqXq"
   },
   "source": [
    "**Here's how to print out some descriptive aspects of our data**\n",
    "\n",
    "*  \"bads\" - List of bad channels (is empty when starting out)\n",
    "*   \"ch_names\" - List of the Channel names\n",
    "*  \" chs\" - Channel Properties\n",
    "*  \"highpass\" - Highpass edge frequencies used during the recordings\n",
    "* \"lowpass\" - Lowpass edge frequencies used during the recordings\n",
    "*   \"meas_date\" - A timestamp of the recording date\n",
    "\n",
    "\n",
    "\n",
    "\n",
    "\n"
   ]
  },
  {
   "cell_type": "code",
   "execution_count": null,
   "metadata": {
    "colab": {
     "base_uri": "https://localhost:8080/",
     "height": 241
    },
    "colab_type": "code",
    "id": "xPjDmTe-H4AO",
    "outputId": "c43aa69a-0ff3-45a9-827f-961ba2e8231a"
   },
   "outputs": [],
   "source": [
    "# Already marked bad channels\n",
    "print(\"Bad Channels\")\n",
    "print(raw.info[\"bads\"])\n",
    "\n",
    "# Channel names\n",
    "print(\"Channel names\")\n",
    "print(raw.info[\"ch_names\"])\n",
    "\n",
    "# Channel properties\n",
    "print(\"Channel properties\")\n",
    "print(raw.info[\"chs\"])\n",
    "\n",
    "# Highpass edge frequencies\n",
    "print(\"Highpass frquencies\")\n",
    "print(raw.info[\"highpass\"])\n",
    "\n",
    "# Lowpass edge frequencies\n",
    "print(\"Lowpass frequencies\")\n",
    "print(raw.info[\"lowpass\"])\n",
    "\n",
    "# Timestamp of the EEG recording- you need to \n",
    "# convert the date to a human readable one\n",
    "print(\"EEG Timestamp of Recording\")\n",
    "print(date.fromtimestamp(raw.info[\"meas_date\"]))"
   ]
  },
  {
   "cell_type": "markdown",
   "metadata": {
    "colab_type": "text",
    "id": "A1t0C9YBM4jN"
   },
   "source": [
    "**Here's an example of how to rename Channels**"
   ]
  },
  {
   "cell_type": "code",
   "execution_count": null,
   "metadata": {
    "colab": {
     "base_uri": "https://localhost:8080/",
     "height": 187
    },
    "colab_type": "code",
    "id": "WXAeJi5sM-pH",
    "outputId": "f9f5b4ec-192b-483f-e058-82150805cc55"
   },
   "outputs": [],
   "source": [
    "# We are printing out the first 10 channels\n",
    "raw.info[\"ch_names\"][:10]"
   ]
  },
  {
   "cell_type": "code",
   "execution_count": null,
   "metadata": {
    "colab": {
     "base_uri": "https://localhost:8080/",
     "height": 34
    },
    "colab_type": "code",
    "id": "5r1cY6AUNP67",
    "outputId": "2fd63742-ee26-46c7-f892-d15c5af73b34"
   },
   "outputs": [],
   "source": [
    "# Here we are going rename the channels because we don't want .. in the names\n",
    "raw.rename_channels(lambda s: s.strip(\".\"))\n",
    "print(raw.info[\"ch_names\"][:10])"
   ]
  },
  {
   "cell_type": "markdown",
   "metadata": {
    "colab_type": "text",
    "id": "OqHOSxKWN3OY"
   },
   "source": [
    "**Here we are actually going to get a set of montages of coordinate systems that are\n",
    "relevant to our dataset**\n",
    "\n",
    "\n",
    "\n",
    "---\n",
    "\n",
    "\n",
    "*    **Note**: This will also depend on your EEG system as well\n",
    "* **Also if you're using the 10-10 system you can use the 10-20 system montage as all the channels for the 10-10 system are present**\n",
    "\n"
   ]
  },
  {
   "cell_type": "code",
   "execution_count": null,
   "metadata": {
    "colab": {
     "base_uri": "https://localhost:8080/",
     "height": 425
    },
    "colab_type": "code",
    "id": "EHr61NzGOISk",
    "outputId": "57d8e732-69e3-473b-f1c4-05c8d7467ce9"
   },
   "outputs": [],
   "source": [
    "# Let's get the montages available to us\n",
    "mne.channels.get_builtin_montages()"
   ]
  },
  {
   "cell_type": "code",
   "execution_count": null,
   "metadata": {
    "colab": {
     "base_uri": "https://localhost:8080/",
     "height": 614
    },
    "colab_type": "code",
    "id": "xE9-ue_tPXWY",
    "outputId": "74d9279e-44c3-429d-ea5c-10b8512f4b9b"
   },
   "outputs": [],
   "source": [
    "# Let's pick our montage!\n",
    "montage = mne.channels.read_montage(\"standard_1020\")\n",
    "montage.plot()\n",
    "raw.set_montage(montage)"
   ]
  },
  {
   "cell_type": "markdown",
   "metadata": {
    "colab_type": "text",
    "id": "15_EVZCvRmUx"
   },
   "source": [
    "**Here's also how we determine reference channels in this case**"
   ]
  },
  {
   "cell_type": "code",
   "execution_count": null,
   "metadata": {
    "colab": {
     "base_uri": "https://localhost:8080/",
     "height": 34
    },
    "colab_type": "code",
    "id": "ZE12vfP2RumM",
    "outputId": "6044bbbc-ac5a-4e9c-9f96-e57f6c2db64d"
   },
   "outputs": [],
   "source": [
    "# Here we want the reference channel to be \n",
    "# the average of all referenced channels\n",
    "raw.set_eeg_reference(\"average\", projection=False)"
   ]
  },
  {
   "cell_type": "markdown",
   "metadata": {
    "colab_type": "text",
    "id": "Eugwe9lETGXb"
   },
   "source": [
    "**In looking at EEG channels we're also going to be extracting events from channels**"
   ]
  },
  {
   "cell_type": "code",
   "execution_count": null,
   "metadata": {
    "colab": {
     "base_uri": "https://localhost:8080/",
     "height": 1547
    },
    "colab_type": "code",
    "id": "a6VQ93wPTWuu",
    "outputId": "31a82bce-678a-4c81-d176-8d75bbcdefaa"
   },
   "outputs": [],
   "source": [
    "events = mne.find_events(raw, initial_event=True) \n",
    "print(events)\n",
    "# Values with 2 or 3 are associated with motor imagery onset \n",
    "#and 1 is considered to be at rest"
   ]
  },
  {
   "cell_type": "code",
   "execution_count": null,
   "metadata": {
    "colab": {
     "base_uri": "https://localhost:8080/",
     "height": 527
    },
    "colab_type": "code",
    "id": "kBRui0glUrz1",
    "outputId": "8b0919dd-d144-452e-df9d-e4235eacc3b1"
   },
   "outputs": [],
   "source": [
    "# Way to find annotations automatically with edf files\n",
    "raw.find_edf_events()"
   ]
  },
  {
   "cell_type": "markdown",
   "metadata": {
    "colab_type": "text",
    "id": "IOfS4F9LVLyW"
   },
   "source": [
    "**So lets plot out what our raw data looks like**"
   ]
  },
  {
   "cell_type": "code",
   "execution_count": null,
   "metadata": {
    "colab": {
     "base_uri": "https://localhost:8080/",
     "height": 553
    },
    "colab_type": "code",
    "id": "0D_qohDuVdoO",
    "outputId": "798e7f27-738b-4d13-de5e-35273440138d"
   },
   "outputs": [],
   "source": [
    "raw.plot()"
   ]
  },
  {
   "cell_type": "markdown",
   "metadata": {
    "colab_type": "text",
    "id": "wchR3fYWZsp5"
   },
   "source": [
    "**So let's see what this looks like when we add our events and annotations**"
   ]
  },
  {
   "cell_type": "code",
   "execution_count": null,
   "metadata": {
    "colab": {
     "base_uri": "https://localhost:8080/",
     "height": 553
    },
    "colab_type": "code",
    "id": "x0akveaEZy13",
    "outputId": "27c55496-6543-4d26-b539-a1aed305235b"
   },
   "outputs": [],
   "source": [
    "raw.plot(n_channels=64, scalings={\"eeg\": 75e-6}, events=events,\n",
    "         event_color={1: \"green\", 2: \"blue\", 3: \"red\"})"
   ]
  },
  {
   "cell_type": "code",
   "execution_count": null,
   "metadata": {
    "colab": {
     "base_uri": "https://localhost:8080/",
     "height": 1028
    },
    "colab_type": "code",
    "id": "-Es8KTVMcokQ",
    "outputId": "dc5bda3b-8205-47b8-f43d-945e79d99f61"
   },
   "outputs": [],
   "source": [
    "# Lets trying plotting in a butterfly style with our events and group them by position\n",
    "raw.plot(butterfly=True, group_by='position', events=events)"
   ]
  },
  {
   "cell_type": "markdown",
   "metadata": {
    "colab_type": "text",
    "id": "ZmsJ1RwhfI-6"
   },
   "source": [
    "**Now let's plot the power spectrum associated with all 64 channels in our data**"
   ]
  },
  {
   "cell_type": "code",
   "execution_count": null,
   "metadata": {
    "colab": {
     "base_uri": "https://localhost:8080/",
     "height": 617
    },
    "colab_type": "code",
    "id": "x6SgKBIqfVy7",
    "outputId": "5e718612-d312-4f61-b7e2-0e1a796ea2d3"
   },
   "outputs": [],
   "source": [
    "# Lets do some power spectrum density plots\n",
    "raw.plot_psd(tmax=np.inf, average=False)"
   ]
  },
  {
   "cell_type": "code",
   "execution_count": null,
   "metadata": {
    "colab": {
     "base_uri": "https://localhost:8080/",
     "height": 633
    },
    "colab_type": "code",
    "id": "b9JY5PVng9WA",
    "outputId": "65e881fc-0336-4f75-a606-f608ad6f09ab"
   },
   "outputs": [],
   "source": [
    "# Lets do a Power Spectrum Topo Plot\n",
    "raw.plot_psd_topo(show=True, proj=True)"
   ]
  },
  {
   "cell_type": "markdown",
   "metadata": {
    "colab_type": "text",
    "id": "u1Edbm8_y3K6"
   },
   "source": [
    "**So lets do an example of a CSP plot**"
   ]
  },
  {
   "cell_type": "code",
   "execution_count": null,
   "metadata": {
    "colab": {},
    "colab_type": "code",
    "id": "r_Tg_2LcJ4rn"
   },
   "outputs": [],
   "source": [
    "# # Set parameters and read data\n",
    "\n",
    "# avoid classification of evoked responses by using epochs that start 1s after\n",
    "# cue onset.\n",
    "tmin, tmax = -1., 4.\n",
    "event_id = dict(hands=2, feet=3)\n",
    "subject = 1\n",
    "runs = [6, 10, 14]  # motor imagery: hands vs feet\n",
    "\n",
    "raw_fnames = eegbci.load_data(subject, runs)\n",
    "raw_files = [read_raw_edf(f, preload=True, stim_channel='auto') for f in\n",
    "             raw_fnames]\n",
    "raw = concatenate_raws(raw_files)"
   ]
  },
  {
   "cell_type": "code",
   "execution_count": null,
   "metadata": {
    "colab": {},
    "colab_type": "code",
    "id": "-cYLH8NHJ4rr"
   },
   "outputs": [],
   "source": [
    "# strip channel names of \".\" characters\n",
    "raw.rename_channels(lambda x: x.strip('.'))"
   ]
  },
  {
   "cell_type": "code",
   "execution_count": null,
   "metadata": {
    "colab": {},
    "colab_type": "code",
    "id": "hsXaLJ4XJ4rv"
   },
   "outputs": [],
   "source": [
    "# Apply band-pass filter\n",
    "raw.filter(7., 30., fir_design='firwin', skip_by_annotation='edge')\n",
    "\n",
    "events = find_events(raw, shortest_event=0, stim_channel='STI 014')\n",
    "\n",
    "picks = pick_types(raw.info, meg=False, eeg=True, stim=False, eog=False,\n",
    "                   exclude='bads')"
   ]
  },
  {
   "cell_type": "code",
   "execution_count": null,
   "metadata": {
    "colab": {},
    "colab_type": "code",
    "id": "52rixenPJ4r0",
    "outputId": "fd612be8-08e8-4272-dc8e-1b341329408c"
   },
   "outputs": [],
   "source": [
    "raw.plot()"
   ]
  },
  {
   "cell_type": "code",
   "execution_count": null,
   "metadata": {
    "colab": {
     "base_uri": "https://localhost:8080/",
     "height": 215
    },
    "colab_type": "code",
    "id": "EKXHUnTWJ4r9",
    "outputId": "916d5056-7ae3-4f97-877d-78a4d3f85c29"
   },
   "outputs": [],
   "source": [
    "# Read epochs (train will be done only between 1 and 2s)\n",
    "# Testing will be done with a running classifier\n",
    "epochs = Epochs(raw, events, event_id, tmin, tmax, proj=True, picks=picks,\n",
    "                baseline=None, preload=True)\n",
    "epochs_train = epochs.copy().crop(tmin=1., tmax=2.)\n",
    "labels = epochs.events[:, -1] - 2"
   ]
  },
  {
   "cell_type": "code",
   "execution_count": null,
   "metadata": {
    "colab": {},
    "colab_type": "code",
    "id": "gwpuX9VQJ4sA"
   },
   "outputs": [],
   "source": [
    "# Define a monte-carlo cross-validation generator (reduce variance):\n",
    "scores = []\n",
    "epochs_data = epochs.get_data()\n",
    "epochs_data_train = epochs_train.get_data()\n",
    "cv = ShuffleSplit(10, test_size=0.2, random_state=42)\n",
    "cv_split = cv.split(epochs_data_train)"
   ]
  },
  {
   "cell_type": "code",
   "execution_count": null,
   "metadata": {
    "colab": {},
    "colab_type": "code",
    "id": "iIifCDNsJ4sF"
   },
   "outputs": [],
   "source": [
    "# Assemble a classifier\n",
    "lda = LinearDiscriminantAnalysis()\n",
    "csp = CSP(n_components=4, reg=None, log=True, norm_trace=False)"
   ]
  },
  {
   "cell_type": "code",
   "execution_count": null,
   "metadata": {
    "colab": {},
    "colab_type": "code",
    "id": "RZmsqe8YJ4sJ"
   },
   "outputs": [],
   "source": [
    "# Use scikit-learn Pipeline with cross_val_score function\n",
    "clf = Pipeline([('CSP', csp), ('LDA', lda)])\n",
    "scores = cross_val_score(clf, epochs_data_train, labels, cv=cv, n_jobs=1)"
   ]
  },
  {
   "cell_type": "code",
   "execution_count": null,
   "metadata": {
    "colab": {
     "base_uri": "https://localhost:8080/",
     "height": 232
    },
    "colab_type": "code",
    "id": "H0QaxldiJ4sP",
    "outputId": "293c759b-1db0-4650-889c-4a549c981738"
   },
   "outputs": [],
   "source": [
    "# Printing the results\n",
    "class_balance = np.mean(labels == labels[0])\n",
    "class_balance = max(class_balance, 1. - class_balance)\n",
    "print(\"Classification accuracy: %f / Chance level: %f\" % (np.mean(scores),\n",
    "                                                          class_balance))\n",
    "\n",
    "# plot CSP patterns estimated on full data for visualization\n",
    "csp.fit_transform(epochs_data, labels)\n",
    "\n",
    "layout = read_layout('EEG1005')\n",
    "csp.plot_patterns(epochs.info, layout=layout, ch_type='eeg',\n",
    "                  units='Patterns (AU)', size=1.5)"
   ]
  },
  {
   "cell_type": "markdown",
   "metadata": {
    "colab_type": "text",
    "id": "3Is-rCuMNsTw"
   },
   "source": [
    "# Part 02 -- Dealing with Eye Blinks and Bad Channels\n",
    "\n",
    "**So we're going to show you how to look at Bad EEG channels \n",
    "and correct for eye blinks within our EEG Data **\n",
    "\n",
    "** Lets look at how to deal with eyeblinks first**\n"
   ]
  },
  {
   "cell_type": "code",
   "execution_count": null,
   "metadata": {
    "colab": {
     "base_uri": "https://localhost:8080/",
     "height": 663
    },
    "colab_type": "code",
    "id": "kUz4b59yODH4",
    "outputId": "44b85392-3748-4888-9d94-2b1608fc40d8"
   },
   "outputs": [],
   "source": [
    "#Lets load up our example dataset\n",
    "!wget http://bnci-horizon-2020.eu/database/data-sets/001-2014/A01T.mat\n",
    "mat = loadmat(\"A01T.mat\")\n",
    "\n",
    "# So our data in this mat file is this really hard to look at dictionary\n",
    "mat.keys()\n",
    "\n",
    "# So we need to output everything from the Data key in this dictionary\n",
    "# Scipy does some weird indexing with mat files\n",
    "# The things we need are the calibration run and the experiment run from this dataset\n",
    "# run 3 --calibration\n",
    "eeg1 = mat[\"data\"][0, 2][\"X\"][0, 0] * 10e-6 \n",
    "# run 4 --experiment run\n",
    "eeg2 = mat[\"data\"][0, 3][\"X\"][0, 0] * 10e-6 \n",
    "\n",
    "# We now need to convert these runs into raw eeg objects for mne to use them\n",
    "# We need to set the number of channels to be 25\n",
    "# Also we need to identify the sampling frequency as 250 Hz\n",
    "# We also need to declare the channel types as the first 22 are EEG and\n",
    "# the last 3 are EOG\n",
    "info = mne.create_info(25, 250, ch_types=[\"eeg\"] * 22 + [\"eog\"] * 3)\n",
    "\n",
    "# We need to to transpose the arrays due to mne expecting channels in rows\n",
    "# and samples in columns\n",
    "raw1 = mne.io.RawArray(eeg1.T, info)\n",
    "raw2 = mne.io.RawArray(eeg2.T, info)\n",
    "\n",
    "# We need to convert the 3 monopolar EOG channels into 2 bipolar channels\n",
    "# So to do this we need to multiply monopolar EOG signals with a matrix\n",
    "# that generates bipolar derivations i.e. EOG1 – EOG2 and EOG3 – EOG2\n",
    "bip = np.array([[1, -1, 0], [0, -1, 1]])\n",
    "raw1_eog = bip @ raw1[22:, :][0]\n",
    "raw2_eog = bip @ raw2[22:, :][0]\n",
    "\n",
    "raw1_eeg = raw1[:22, :][0]\n",
    "raw2_eeg = raw2[:22, :][0]\n",
    "\n",
    "\n",
    "print(\"Raw1_EOG\")\n",
    "print(raw1_eog)\n",
    "print(\"Raw2_EOG\")\n",
    "print(raw2_eog)\n",
    "print(\"raw1_eeg\")\n",
    "print(raw1_eeg)\n",
    "print(\"raw2_eeg\")\n",
    "print(raw2_eeg)"
   ]
  },
  {
   "cell_type": "code",
   "execution_count": null,
   "metadata": {
    "colab": {
     "base_uri": "https://localhost:8080/",
     "height": 153
    },
    "colab_type": "code",
    "id": "E52a4a7wYJmn",
    "outputId": "6b7edf3d-0ddc-4cca-b8c3-937217162944"
   },
   "outputs": [],
   "source": [
    "# The first method deals with using OLS regression\n",
    "\n",
    "# Here we're solving for all the dependent and response variables through\n",
    "# all EEG channels at the same time\n",
    "# We also have several independent predictor variables coming from our EOG channels\n",
    "# So we're setting up a multivariate model\n",
    "\n",
    "# The @ symbol computes the dot product of the matrices\n",
    "# np.dot can be an alternative to this\n",
    "betas = np.linalg.inv(raw1_eog @ raw1_eog.T) @ raw1_eog @ raw1_eeg.T\n",
    "print(betas)\n",
    "\n",
    "# You can also do it this way as well to compute the regression coefficients\n",
    "#betas = np.linalg.solve(raw1_eog @ raw1_eog.T, raw1_eog @ raw1_eog.T)\n",
    "\n",
    "# Lets check the shape of our regresion parameter matrix\n",
    "# There should be 2 EOG predictors and 22 EEG predictors\n",
    "#betas.shape()\n",
    "\n",
    "# So no we need to extract the EOG influence from our EEG data\n",
    "eeg_corrected = (raw2_eeg.T - raw2_eog.T @ betas).T\n",
    "raw3 = raw2.copy()\n",
    "raw3._data[:22, :] = eeg_corrected"
   ]
  },
  {
   "cell_type": "code",
   "execution_count": null,
   "metadata": {
    "colab": {
     "base_uri": "https://localhost:8080/",
     "height": 769
    },
    "colab_type": "code",
    "id": "YswCVEM5dM3s",
    "outputId": "007c1a28-aac7-4819-f4df-8ad3370e787b"
   },
   "outputs": [],
   "source": [
    "# So now lets look at our data before an eyeblink\n",
    "raw2.plot(n_channels=25, start=54, duration=4,\n",
    "          scalings=dict(eeg=250e-6, eog=750e-6))"
   ]
  },
  {
   "cell_type": "code",
   "execution_count": null,
   "metadata": {
    "colab": {
     "base_uri": "https://localhost:8080/",
     "height": 769
    },
    "colab_type": "code",
    "id": "rfV9Zqh7ddnH",
    "outputId": "6b81b948-9736-4fcf-9279-fc7232d33533"
   },
   "outputs": [],
   "source": [
    "# Now lets look at what our data looks like after its been corrected for eye blinks\n",
    "raw3.plot(n_channels=25, start=54, duration=4,\n",
    "          scalings=dict(eeg=250e-6, eog=750e-6))"
   ]
  },
  {
   "cell_type": "markdown",
   "metadata": {
    "colab_type": "text",
    "id": "vOmZcw8-rq_X"
   },
   "source": [
    "**Now Let's do an example of removing eye blinks in our data with ICA (Independent Components Analysis)**"
   ]
  },
  {
   "cell_type": "code",
   "execution_count": null,
   "metadata": {
    "colab": {
     "base_uri": "https://localhost:8080/",
     "height": 34
    },
    "colab_type": "code",
    "id": "dt0HJ5jor6xq",
    "outputId": "0e88e7b1-075b-45df-d62d-1394b6b50653"
   },
   "outputs": [],
   "source": [
    "# Let's reference our dataset and load our mat file with run 4\n",
    "eeg_ica = mat[\"data\"][0, 3][\"X\"][0, 0] * 10e-6\n",
    "\n",
    "ch_names_ica = [\"Fz\", \"FC3\", \"FC1\", \"FCz\", \"FC2\", \"FC4\", \"C5\", \"C3\", \"C1\", \"Cz\",\n",
    "            \"C2\", \"C4\", \"C6\", \"CP3\", \"CP1\", \"CPz\", \"CP2\", \"CP4\", \"P1\", \"Pz\",\n",
    "            \"P2\", \"POz\", \"EOG1\", \"EOG2\", \"EOG3\"]\n",
    "\n",
    "# We need to create an info and raw object\n",
    "info_ica = mne.create_info(ch_names_ica, 250, ch_types=[\"eeg\"] * 22 + [\"eog\"] * 3)\n",
    "raw_ica = mne.io.RawArray(eeg_ica.T, info_ica)\n",
    "\n",
    "raw_ica.set_montage(mne.channels.read_montage(\"standard_1020\"))"
   ]
  },
  {
   "cell_type": "code",
   "execution_count": null,
   "metadata": {
    "colab": {
     "base_uri": "https://localhost:8080/",
     "height": 34
    },
    "colab_type": "code",
    "id": "nMOH0q74vUqs",
    "outputId": "e52b3bdc-b05f-4422-d35d-dd82b2a90a30"
   },
   "outputs": [],
   "source": [
    "# So ICA does not work in the presance of low frequency drifts\n",
    "# So here we're going to create a copy of our raw_ica object\n",
    "# and apply a high-pass filter\n",
    "raw_tmp = raw_ica.copy()\n",
    "raw_tmp.filter(1, None, fir_design=\"firwin\")\n",
    "\n",
    "# We are now going to implement ICA with the extended Infomax\n",
    "# algorithm and a fixed random state that should make this more reproducible\n",
    "ica = mne.preprocessing.ICA(method=\"extended-infomax\", random_state=1)\n",
    "ica.fit(raw_tmp)"
   ]
  },
  {
   "cell_type": "markdown",
   "metadata": {
    "colab_type": "text",
    "id": "Xwn_f4xuxQvP"
   },
   "source": [
    "**So now we need to check our results and see if they worked**"
   ]
  },
  {
   "cell_type": "code",
   "execution_count": null,
   "metadata": {
    "colab": {
     "base_uri": "https://localhost:8080/",
     "height": 710
    },
    "colab_type": "code",
    "id": "mdowhKRGxXHL",
    "outputId": "94b251bf-a996-4f8a-d1c0-db1d24b24636"
   },
   "outputs": [],
   "source": [
    "# We need to look at all 22 components visually\n",
    "ica.plot_components(inst=raw_tmp)"
   ]
  },
  {
   "cell_type": "code",
   "execution_count": null,
   "metadata": {
    "colab": {
     "base_uri": "https://localhost:8080/",
     "height": 769
    },
    "colab_type": "code",
    "id": "6F2LMOk0yuwv",
    "outputId": "140250ec-3701-4ac6-c568-cb64f44b5ca8"
   },
   "outputs": [],
   "source": [
    "# So ICA001 looks like there might have an eye blink associated with it\n",
    "# Lets plot out the traces to take a look\n",
    "ica.plot_sources(inst=raw_tmp)"
   ]
  },
  {
   "cell_type": "markdown",
   "metadata": {
    "colab_type": "text",
    "id": "SHLxBbCBz67K"
   },
   "source": [
    "**So now let's remove the eye blinks associated with our ICA and replot it**"
   ]
  },
  {
   "cell_type": "code",
   "execution_count": null,
   "metadata": {
    "colab": {
     "base_uri": "https://localhost:8080/",
     "height": 34
    },
    "colab_type": "code",
    "id": "TSx3r9pW0ESu",
    "outputId": "a3397869-e6b3-4244-aa3e-334847eeee55"
   },
   "outputs": [],
   "source": [
    "# So now we're going to create a list of the components we want to exclude\n",
    "# Then we will apply ica to the corrected eeg signal\n",
    "ica.exclude = [1]\n",
    "raw_corrected = raw_ica.copy()\n",
    "ica.apply(raw_corrected)"
   ]
  },
  {
   "cell_type": "code",
   "execution_count": null,
   "metadata": {
    "colab": {
     "base_uri": "https://localhost:8080/",
     "height": 769
    },
    "colab_type": "code",
    "id": "hAGNc8Er1JDh",
    "outputId": "0b4879c9-e58c-4ae2-a9be-88f813c169c4"
   },
   "outputs": [],
   "source": [
    "#Lets see what our results looked like before\n",
    "# Lets plot it out again and see our results\n",
    "raw_ica.plot(n_channels=25, start=54, duration=4,\n",
    "         scalings=dict(eeg=250e-6, eog=750e-6))"
   ]
  },
  {
   "cell_type": "code",
   "execution_count": null,
   "metadata": {
    "colab": {
     "base_uri": "https://localhost:8080/",
     "height": 769
    },
    "colab_type": "code",
    "id": "MxzrMbW_1Fq6",
    "outputId": "f4e58b51-9035-45f6-dd8b-d8373ef7d306"
   },
   "outputs": [],
   "source": [
    "# This is what they looked like after\n",
    "raw_corrected.plot(n_channels=25, start=54, duration=4,\n",
    "                   scalings=dict(eeg=250e-6, eog=750e-6))"
   ]
  },
  {
   "cell_type": "markdown",
   "metadata": {
    "colab_type": "text",
    "id": "yA9PXGSMJ4sT"
   },
   "source": [
    "## Part 03 -- MEG sample data visualization"
   ]
  },
  {
   "cell_type": "code",
   "execution_count": null,
   "metadata": {},
   "outputs": [],
   "source": [
    "import os.path as op"
   ]
  },
  {
   "cell_type": "code",
   "execution_count": null,
   "metadata": {
    "colab": {},
    "colab_type": "code",
    "id": "p0a_MSNCJ4sV",
    "outputId": "77d4fb27-649c-4819-dcff-b2dad913a5e3"
   },
   "outputs": [],
   "source": [
    "data_path = mne.datasets.sample.data_path()\n",
    "fname = op.join(data_path, 'MEG', 'sample', 'sample_audvis-ave.fif')\n",
    "evoked = mne.read_evokeds(fname, baseline=(None, 0), proj=True)\n",
    "\n",
    "# only left aud\n",
    "evoked = evoked[0]\n",
    "\n",
    "lt_chans = [k['ch_name'] for k in evoked.info['chs']\n",
    "            if k['loc'][0] <= 0 ]\n",
    "\n",
    "evoked.info['bads'] = []\n",
    "evoked.plot(exclude=[], show=False)\n",
    "evoked.info['bads'] += lt_chans\n",
    "evoked.plot(exclude=[],show=False)\n",
    "plt.show()"
   ]
  },
  {
   "cell_type": "markdown",
   "metadata": {
    "colab_type": "text",
    "id": "tzBVPTmJJ4sb"
   },
   "source": [
    "## Part 04 -- Compute source space connectivity and visualize it using a circular graph\n",
    "\n",
    "This example computes the all-to-all connectivity between 68 regions in source space based on dSPM inverse solutions and a FreeSurfer cortical parcellation. The connectivity is visualized using a circular graph which is ordered based on the locations of the regions."
   ]
  },
  {
   "cell_type": "code",
   "execution_count": null,
   "metadata": {
    "colab": {},
    "colab_type": "code",
    "id": "-RNkC4ECJ4sd"
   },
   "outputs": [],
   "source": [
    "data_path = sample.data_path()\n",
    "subjects_dir = data_path + '/subjects'\n",
    "fname_inv = data_path + '/MEG/sample/sample_audvis-meg-oct-6-meg-inv.fif'\n",
    "fname_raw = data_path + '/MEG/sample/sample_audvis_filt-0-40_raw.fif'\n",
    "fname_event = data_path + '/MEG/sample/sample_audvis_filt-0-40_raw-eve.fif'"
   ]
  },
  {
   "cell_type": "code",
   "execution_count": null,
   "metadata": {
    "colab": {},
    "colab_type": "code",
    "id": "Y5m7vi53J4si"
   },
   "outputs": [],
   "source": [
    "# Load data\n",
    "inverse_operator = read_inverse_operator(fname_inv)\n",
    "raw = mne.io.read_raw_fif(fname_raw)\n",
    "events = mne.read_events(fname_event)"
   ]
  },
  {
   "cell_type": "code",
   "execution_count": null,
   "metadata": {
    "colab": {},
    "colab_type": "code",
    "id": "3s6fqjMKJ4sl"
   },
   "outputs": [],
   "source": [
    "# Add a bad channel\n",
    "raw.info['bads'] += ['MEG 2443']"
   ]
  },
  {
   "cell_type": "code",
   "execution_count": null,
   "metadata": {
    "colab": {},
    "colab_type": "code",
    "id": "hiWgUeWMJ4sn"
   },
   "outputs": [],
   "source": [
    "# Pick MEG channels\n",
    "picks = mne.pick_types(raw.info, meg=True, eeg=False, stim=False, eog=True,\n",
    "                       exclude='bads')"
   ]
  },
  {
   "cell_type": "code",
   "execution_count": null,
   "metadata": {
    "colab": {},
    "colab_type": "code",
    "id": "dzJFRLgoJ4ss"
   },
   "outputs": [],
   "source": [
    "# Define epochs for left-auditory condition\n",
    "event_id, tmin, tmax = 1, -0.2, 0.5\n",
    "epochs = mne.Epochs(raw, events, event_id, tmin, tmax, picks=picks,\n",
    "                    baseline=(None, 0), reject=dict(mag=4e-12, grad=4000e-13,\n",
    "                                                    eog=150e-6))"
   ]
  },
  {
   "cell_type": "code",
   "execution_count": null,
   "metadata": {
    "colab": {},
    "colab_type": "code",
    "id": "TnMUZOMIJ4su"
   },
   "outputs": [],
   "source": [
    "# Compute inverse solution and for each epoch. By using \"return_generator=True\"\n",
    "# stcs will be a generator object instead of a list.\n",
    "snr = 1.0  # use lower SNR for single epochs\n",
    "lambda2 = 1.0 / snr ** 2\n",
    "method = \"dSPM\"  # use dSPM method (could also be MNE or sLORETA)\n",
    "stcs = apply_inverse_epochs(epochs, inverse_operator, lambda2, method,\n",
    "                            pick_ori=\"normal\", return_generator=True)"
   ]
  },
  {
   "cell_type": "code",
   "execution_count": null,
   "metadata": {
    "colab": {},
    "colab_type": "code",
    "id": "-SB6VpQ3J4sx"
   },
   "outputs": [],
   "source": [
    "# Get labels for FreeSurfer 'aparc' cortical parcellation with 34 labels/hemi\n",
    "labels = mne.read_labels_from_annot('sample', parc='aparc',\n",
    "                                    subjects_dir=subjects_dir)\n",
    "label_colors = [label.color for label in labels]"
   ]
  },
  {
   "cell_type": "code",
   "execution_count": null,
   "metadata": {
    "colab": {},
    "colab_type": "code",
    "id": "1c5AH2RkJ4s3"
   },
   "outputs": [],
   "source": [
    "# Average the source estimates within each label using sign-flips to reduce\n",
    "# signal cancellations, also here we return a generator\n",
    "src = inverse_operator['src']\n",
    "label_ts = mne.extract_label_time_course(stcs, labels, src, mode='mean_flip',\n",
    "                                         return_generator=True)"
   ]
  },
  {
   "cell_type": "code",
   "execution_count": null,
   "metadata": {
    "colab": {},
    "colab_type": "code",
    "id": "SyfEH8etJ4s7"
   },
   "outputs": [],
   "source": [
    "# Now we are ready to compute the connectivity in the alpha band. Notice\n",
    "# from the status messages, how mne-python: 1) reads an epoch from the raw\n",
    "# file, 2) applies SSP and baseline correction, 3) computes the inverse to\n",
    "# obtain a source estimate, 4) averages the source estimate to obtain a\n",
    "# time series for each label, 5) includes the label time series in the\n",
    "# connectivity computation, and then moves to the next epoch. This\n",
    "# behaviour is because we are using generators and allows us to\n",
    "# compute connectivity in computationally efficient manner where the amount\n",
    "# of memory (RAM) needed is independent from the number of epochs.\n",
    "fmin = 8.\n",
    "fmax = 13.\n",
    "sfreq = raw.info['sfreq']  # the sampling frequency\n",
    "con_methods = ['pli', 'wpli2_debiased']\n",
    "con, freqs, times, n_epochs, n_tapers = spectral_connectivity(\n",
    "    label_ts, method=con_methods, mode='multitaper', sfreq=sfreq, fmin=fmin,\n",
    "    fmax=fmax, faverage=True, mt_adaptive=True, n_jobs=1)"
   ]
  },
  {
   "cell_type": "code",
   "execution_count": null,
   "metadata": {
    "colab": {},
    "colab_type": "code",
    "id": "VkX5FcEgJ4s9"
   },
   "outputs": [],
   "source": [
    "# con is a 3D array, get the connectivity for the first (and only) freq. band\n",
    "# for each method\n",
    "con_res = dict()\n",
    "for method, c in zip(con_methods, con):\n",
    "    con_res[method] = c[:, :, 0]"
   ]
  },
  {
   "cell_type": "code",
   "execution_count": null,
   "metadata": {
    "colab": {},
    "colab_type": "code",
    "id": "Kohec4d1J4tC"
   },
   "outputs": [],
   "source": [
    "# Now, we visualize the connectivity using a circular graph layout\n",
    "\n",
    "# First, we reorder the labels based on their location in the left hemi\n",
    "label_names = [label.name for label in labels]\n",
    "\n",
    "lh_labels = [name for name in label_names if name.endswith('lh')]"
   ]
  },
  {
   "cell_type": "code",
   "execution_count": null,
   "metadata": {
    "colab": {},
    "colab_type": "code",
    "id": "N5QqVmV6J4tE"
   },
   "outputs": [],
   "source": [
    "# Get the y-location of the label\n",
    "label_ypos = list()\n",
    "for name in lh_labels:\n",
    "    idx = label_names.index(name)\n",
    "    ypos = np.mean(labels[idx].pos[:, 1])\n",
    "    label_ypos.append(ypos)"
   ]
  },
  {
   "cell_type": "code",
   "execution_count": null,
   "metadata": {
    "colab": {},
    "colab_type": "code",
    "id": "OqdD60uZJ4tI"
   },
   "outputs": [],
   "source": [
    "# Reorder the labels based on their location\n",
    "lh_labels = [label for (yp, label) in sorted(zip(label_ypos, lh_labels))]"
   ]
  },
  {
   "cell_type": "code",
   "execution_count": null,
   "metadata": {
    "colab": {},
    "colab_type": "code",
    "id": "ZST7elMvJ4tL"
   },
   "outputs": [],
   "source": [
    "# For the right hemi\n",
    "rh_labels = [label[:-2] + 'rh' for label in lh_labels]"
   ]
  },
  {
   "cell_type": "code",
   "execution_count": null,
   "metadata": {
    "colab": {},
    "colab_type": "code",
    "id": "mNQtnkgyJ4tR"
   },
   "outputs": [],
   "source": [
    "# Save the plot order and create a circular layout\n",
    "node_order = list()\n",
    "node_order.extend(lh_labels[::-1])  # reverse the order\n",
    "node_order.extend(rh_labels)\n",
    "\n",
    "node_angles = circular_layout(label_names, node_order, start_pos=90,\n",
    "                              group_boundaries=[0, len(label_names) / 2])"
   ]
  },
  {
   "cell_type": "code",
   "execution_count": null,
   "metadata": {},
   "outputs": [],
   "source": [
    "print (con_res[method])"
   ]
  },
  {
   "cell_type": "code",
   "execution_count": null,
   "metadata": {
    "colab": {},
    "colab_type": "code",
    "id": "m7Xx7JJ7J4tU"
   },
   "outputs": [],
   "source": [
    "# Plot the graph using node colors from the FreeSurfer parcellation. We only\n",
    "# show the 300 strongest connections.\n",
    "plot_connectivity_circle(con_res['pli'], label_names, n_lines=300,\n",
    "                         node_angles=node_angles, node_colors=label_colors,\n",
    "                         title='All-to-All Connectivity left-Auditory '\n",
    "                               'Condition (PLI)')\n",
    "#plt.savefig('circle.png', facecolor='black')\n",
    "# Plot connectivity for both methods in the same plot\n",
    "plt.show()"
   ]
  },
  {
   "cell_type": "code",
   "execution_count": null,
   "metadata": {
    "colab": {},
    "colab_type": "code",
    "id": "HaaWGMJVJ4tb"
   },
   "outputs": [],
   "source": [
    "fig = plt.figure(num=None, figsize=(8, 4), facecolor='black')\n",
    "no_names = [''] * len(label_names)\n",
    "for ii, method in enumerate(con_methods):\n",
    "    if set_trace:\n",
    "        ipdb.set_trace()\n",
    "    plot_connectivity_circle(con_res[method], no_names, n_lines=300,\n",
    "                             node_angles=node_angles, node_colors=label_colors,\n",
    "                             title=method, padding=0, fontsize_colorbar=6,\n",
    "                             fig=fig, subplot=(1, 2, ii + 1))\n",
    "\n",
    "plt.show()"
   ]
  },
  {
   "cell_type": "code",
   "execution_count": null,
   "metadata": {},
   "outputs": [],
   "source": []
  }
 ],
 "metadata": {
  "colab": {
   "collapsed_sections": [],
   "name": "01_Visualizing_EEG_Data.ipynb",
   "provenance": [],
   "toc_visible": true,
   "version": "0.3.2"
  },
  "kernelspec": {
   "display_name": "Python 3",
   "language": "python",
   "name": "python3"
  },
  "language_info": {
   "codemirror_mode": {
    "name": "ipython",
    "version": 3
   },
   "file_extension": ".py",
   "mimetype": "text/x-python",
   "name": "python",
   "nbconvert_exporter": "python",
   "pygments_lexer": "ipython3",
   "version": "3.6.5"
  }
 },
 "nbformat": 4,
 "nbformat_minor": 1
}
