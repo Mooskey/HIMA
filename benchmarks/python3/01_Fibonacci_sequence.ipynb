{
 "cells": [
  {
   "cell_type": "markdown",
   "metadata": {},
   "source": [
    "# Python Benchmarking, Part 01 -- Fibonacci Sequence:\n",
    "\n",
    "The Fibonacci numbers are the sequence of numbers {F_n}_(n=1)^infinity defined by the linear recurrence equation:\n",
    "\n",
    "F_n=F_(n-1)+F_(n-2) \t\n",
    "\n",
    "with F_1=F_2=1.\n",
    "\n",
    "Fibonacci numbers find applications in the fields of economics, computer science, biology, combinatoric, etc.\n",
    "\n",
    "This notebook implements both the iterative method and the recursive one, and then records the elepased time for generating the Fibonacci numbers for a given n.\n",
    "\n",
    "The python3 code used in this notebook is a modified fork of the [NASA benchmark for python](https://modelingguru.nasa.gov/docs/DOC-2676)."
   ]
  },
  {
   "cell_type": "code",
   "execution_count": 1,
   "metadata": {},
   "outputs": [],
   "source": [
    "import numpy as np\n",
    "import datetime as dt\n",
    "import sys\n",
    "import gc"
   ]
  },
  {
   "cell_type": "code",
   "execution_count": 2,
   "metadata": {},
   "outputs": [],
   "source": [
    "def fibIter(n):\n",
    "    if n < 2:\n",
    "       return n\n",
    "    fibPrev = 1\n",
    "    fib = 1\n",
    "    for num in range(2, n):\n",
    "        fibPrev, fib = fib, fib + fibPrev\n",
    "    return fib"
   ]
  },
  {
   "cell_type": "code",
   "execution_count": 3,
   "metadata": {},
   "outputs": [],
   "source": [
    "def fibRec(n):\n",
    "    if n < 2:\n",
    "       return n\n",
    "    else:\n",
    "       return fibRec(n-1) + fibRec(n-2)"
   ]
  },
  {
   "cell_type": "code",
   "execution_count": 4,
   "metadata": {},
   "outputs": [],
   "source": [
    "N = 50 #int(sys.argv[1])"
   ]
  },
  {
   "cell_type": "code",
   "execution_count": 5,
   "metadata": {},
   "outputs": [],
   "source": [
    "if len(str(N)) < 1:\n",
    "        print ('Usage:')\n",
    "        print ('     ./\"fibonacci.py N')\n",
    "        print ('Please specify the number of iterations.')\n",
    "        sys.exit()"
   ]
  },
  {
   "cell_type": "code",
   "execution_count": 6,
   "metadata": {},
   "outputs": [],
   "source": [
    "begTime = dt.datetime.now()"
   ]
  },
  {
   "cell_type": "code",
   "execution_count": 7,
   "metadata": {},
   "outputs": [],
   "source": [
    "n1 = fibIter(N)"
   ]
  },
  {
   "cell_type": "code",
   "execution_count": 8,
   "metadata": {},
   "outputs": [
    {
     "name": "stdout",
     "output_type": "stream",
     "text": [
      "Iterative Fibonacci ( 50 ): 0.024037 s 12586269025\n"
     ]
    }
   ],
   "source": [
    "endTime = dt.datetime.now()\n",
    "diffTime = endTime - begTime\n",
    "print ('Iterative Fibonacci (',N,'):', diffTime.total_seconds(),'s', n1)"
   ]
  },
  {
   "cell_type": "code",
   "execution_count": 9,
   "metadata": {},
   "outputs": [
    {
     "data": {
      "text/plain": [
       "121"
      ]
     },
     "execution_count": 9,
     "metadata": {},
     "output_type": "execute_result"
    }
   ],
   "source": [
    "del (begTime)\n",
    "del (diffTime)\n",
    "del (n1)\n",
    "gc.collect()"
   ]
  },
  {
   "cell_type": "code",
   "execution_count": 10,
   "metadata": {},
   "outputs": [],
   "source": [
    "begTime = dt.datetime.now()"
   ]
  },
  {
   "cell_type": "code",
   "execution_count": 11,
   "metadata": {},
   "outputs": [],
   "source": [
    "n2 = fibRec(N)"
   ]
  },
  {
   "cell_type": "code",
   "execution_count": 12,
   "metadata": {},
   "outputs": [
    {
     "name": "stdout",
     "output_type": "stream",
     "text": [
      "Recursive Fibonacci ( 50 ): 4184.156977 s 12586269025\n"
     ]
    }
   ],
   "source": [
    "endTime = dt.datetime.now()\n",
    "diffTime = endTime - begTime\n",
    "print ('Recursive Fibonacci (',N,'):', diffTime.total_seconds(),'s', n2)"
   ]
  },
  {
   "cell_type": "code",
   "execution_count": 13,
   "metadata": {},
   "outputs": [
    {
     "data": {
      "text/plain": [
       "0"
      ]
     },
     "execution_count": 13,
     "metadata": {},
     "output_type": "execute_result"
    }
   ],
   "source": [
    "del (begTime)\n",
    "del (diffTime)\n",
    "del (n2)\n",
    "gc.collect()"
   ]
  }
 ],
 "metadata": {
  "kernelspec": {
   "display_name": "Python 3 (Intel, 2018 update 2)",
   "language": "python",
   "name": "intel_distribution_of_python_3_2018u2"
  },
  "language_info": {
   "codemirror_mode": {
    "name": "ipython",
    "version": 3
   },
   "file_extension": ".py",
   "mimetype": "text/x-python",
   "name": "python",
   "nbconvert_exporter": "python",
   "pygments_lexer": "ipython3",
   "version": "3.6.3"
  }
 },
 "nbformat": 4,
 "nbformat_minor": 2
}
